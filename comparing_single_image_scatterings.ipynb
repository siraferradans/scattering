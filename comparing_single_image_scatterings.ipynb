{
 "cells": [
  {
   "cell_type": "code",
   "execution_count": null,
   "metadata": {
    "collapsed": false
   },
   "outputs": [],
   "source": [
    "import numpy as np\n",
    "import h5py\n",
    "\n",
    "f = h5py.File('./scatoneimage.mat','r')\n",
    "imagen = np.array(f['image']).transpose()\n",
    "joan_scat = np.array(f['feature'])"
   ]
  },
  {
   "cell_type": "code",
   "execution_count": null,
   "metadata": {
    "collapsed": false
   },
   "outputs": [],
   "source": [
    "%matplotlib inline\n",
    "import matplotlib.pylab as plt\n",
    "plt.subplot(1,2,1)\n",
    "plt.imshow(imagen)\n",
    "print('[',np.min(imagen),',',np.max(imagen),']')\n",
    "plt.subplot(1,2,2)\n",
    "h=np.histogram(imagen[:],bins=np.linspace(0, 255, 100))\n",
    "#plt.plot(h[0],h[1])\n",
    "#plt.show()\n",
    "h[0]"
   ]
  },
  {
   "cell_type": "code",
   "execution_count": 4,
   "metadata": {
    "collapsed": false
   },
   "outputs": [],
   "source": [
    "#extract exemplar data\n",
    "import numpy as np\n",
    "from skimage import data\n",
    "from skimage.transform import resize\n",
    "imagen = data.camera()\n",
    "px=32\n",
    "imagen = resize(imagen, (px, px))"
   ]
  },
  {
   "cell_type": "code",
   "execution_count": 5,
   "metadata": {
    "collapsed": false
   },
   "outputs": [
    {
     "name": "stderr",
     "output_type": "stream",
     "text": [
      "/Users/ferradans/Documents/Research/ScatteringPython/scattering/scattering/scattering.py:80: UserWarning: Variable x has shape (3, 5, 4), which is not in format (N,px,px). We crop to the smallest dimension.\n",
      "  warnings.warn(warning_string.format(x.shape))\n",
      "/Users/ferradans/Documents/Research/ScatteringPython/scattering/scattering/scattering.py:88: UserWarning: No filter input, we create a Morlet filter bank with J= 2 and L=8\n",
      "  warnings.warn(warning_string.format(J,L))\n",
      "/Users/ferradans/Documents/Research/ScatteringPython/scattering/scattering/scattering.py:106: UserWarning: Parameter m out of bounds, valid values are 0,1,2 not 3\n",
      "  warnings.warn(warning_string.format(m))\n"
     ]
    }
   ],
   "source": [
    "import numpy as np\n",
    "from scattering.scattering import scattering\n",
    "\n",
    "px = 5\n",
    "py = 4\n",
    "aa = np.arange(0,3*px*py)\n",
    "aa = aa.reshape((3,px,py))\n",
    "\n",
    "S = scattering(aa,m=3)\n",
    "\n",
    "px = min(px,py)\n",
    "aa.shape\n",
    "#print(aa[:,0:px,0:px])\n",
    "#print('and nw:')\n",
    "#print(aa)\n"
   ]
  },
  {
   "cell_type": "code",
   "execution_count": 33,
   "metadata": {
    "collapsed": false
   },
   "outputs": [
    {
     "name": "stdout",
     "output_type": "stream",
     "text": [
      "3\n",
      "-1\n"
     ]
    },
    {
     "name": "stderr",
     "output_type": "stream",
     "text": [
      "/Users/ferradans/anaconda3/lib/python3.5/site-packages/ipykernel/__main__.py:13: UserWarning: Parameter m out of bounds, valid values are 0,1,2 not 3\n"
     ]
    },
    {
     "data": {
      "text/plain": [
       "-1"
      ]
     },
     "execution_count": 33,
     "metadata": {},
     "output_type": "execute_result"
    }
   ],
   "source": [
    "import warnings\n",
    "m=3\n",
    "J=2\n",
    "L=3\n",
    "num_coefs = {\n",
    "    0: int(1),\n",
    "    1: int(1+J*L),\n",
    "    2: int(1+J*L+J*(J-1)*L**2/2)\n",
    "}.get(m,-1) #[m](m)\n",
    "\n",
    "if num_coefs == -1:\n",
    "    warning_string = \"Parameter m out of bounds, valid values are 0,1,2 not {0}\"\n",
    "    warnings.warn(warning_string.format(m))\n",
    "    return\n",
    "print(m)\n",
    "print(num_coefs)\n",
    "num_coefs"
   ]
  },
  {
   "cell_type": "code",
   "execution_count": 7,
   "metadata": {
    "collapsed": false
   },
   "outputs": [],
   "source": [
    "from scattering.filter_bank import filter_bank_morlet2d, filterbank_to_multiresolutionfilterbank\n",
    "from scattering.scattering import scattering\n",
    "    \n",
    "J=3\n",
    "L=6\n",
    "\n",
    "wavelet_filters, littlewood = filter_bank_morlet2d(px, J=J, L=L, sigma_phi=0.6957,sigma_xi=0.8506 )\n",
    "\n",
    "Filters = filterbank_to_multiresolutionfilterbank(wavelet_filters,J)\n",
    "\n",
    "S = scattering(imagen[np.newaxis,:,:], Filters,m=1)\n",
    "myscat = S[0][0,:,:,:]\n",
    "myscat.shape=(myscat.shape[0]*myscat.shape[1]*myscat.shape[2])"
   ]
  },
  {
   "cell_type": "code",
   "execution_count": 11,
   "metadata": {
    "collapsed": false
   },
   "outputs": [
    {
     "name": "stderr",
     "output_type": "stream",
     "text": [
      "/Users/ferradans/Documents/Research/ScatteringPython/scattering/scattering/scattering.py:81: UserWarning: Variable x has shape (1, 48, 32), which is not in format (N,px,px). We crop to the smallest dimension.\n",
      "  warnings.warn(warning_string.format(x.shape))\n"
     ]
    },
    {
     "ename": "ValueError",
     "evalue": "operands could not be broadcast together with shapes (1,48,32) (32,32) ",
     "output_type": "error",
     "traceback": [
      "\u001b[0;31m---------------------------------------------------------------------------\u001b[0m",
      "\u001b[0;31mValueError\u001b[0m                                Traceback (most recent call last)",
      "\u001b[0;32m<ipython-input-11-5ba9cc98f202>\u001b[0m in \u001b[0;36m<module>\u001b[0;34m()\u001b[0m\n\u001b[1;32m      3\u001b[0m \u001b[0mim\u001b[0m \u001b[0;34m=\u001b[0m \u001b[0mresize\u001b[0m\u001b[0;34m(\u001b[0m\u001b[0mimagen\u001b[0m\u001b[0;34m,\u001b[0m \u001b[0;34m(\u001b[0m\u001b[0;36m48\u001b[0m\u001b[0;34m,\u001b[0m \u001b[0;36m32\u001b[0m\u001b[0;34m)\u001b[0m\u001b[0;34m)\u001b[0m\u001b[0;34m\u001b[0m\u001b[0m\n\u001b[1;32m      4\u001b[0m \u001b[0mplt\u001b[0m\u001b[0;34m.\u001b[0m\u001b[0mimshow\u001b[0m\u001b[0;34m(\u001b[0m\u001b[0mim\u001b[0m\u001b[0;34m)\u001b[0m\u001b[0;34m\u001b[0m\u001b[0m\n\u001b[0;32m----> 5\u001b[0;31m \u001b[0mS\u001b[0m \u001b[0;34m=\u001b[0m \u001b[0mscattering\u001b[0m\u001b[0;34m(\u001b[0m\u001b[0mim\u001b[0m\u001b[0;34m[\u001b[0m\u001b[0mnp\u001b[0m\u001b[0;34m.\u001b[0m\u001b[0mnewaxis\u001b[0m\u001b[0;34m,\u001b[0m\u001b[0;34m:\u001b[0m\u001b[0;34m,\u001b[0m\u001b[0;34m:\u001b[0m\u001b[0;34m]\u001b[0m\u001b[0;34m,\u001b[0m \u001b[0mFilters\u001b[0m\u001b[0;34m,\u001b[0m\u001b[0mm\u001b[0m\u001b[0;34m=\u001b[0m\u001b[0;36m1\u001b[0m\u001b[0;34m)\u001b[0m\u001b[0;34m\u001b[0m\u001b[0m\n\u001b[0m",
      "\u001b[0;32m/Users/ferradans/Documents/Research/ScatteringPython/scattering/scattering/scattering.py\u001b[0m in \u001b[0;36mscattering\u001b[0;34m(x, wavelet_filters, m)\u001b[0m\n\u001b[1;32m    106\u001b[0m     \u001b[0;31m#Zero order coeffs\u001b[0m\u001b[0;34m\u001b[0m\u001b[0;34m\u001b[0m\u001b[0m\n\u001b[1;32m    107\u001b[0m     \u001b[0mS\u001b[0m\u001b[0;34m[\u001b[0m\u001b[0;34m:\u001b[0m\u001b[0;34m,\u001b[0m\u001b[0;36m0\u001b[0m\u001b[0;34m,\u001b[0m\u001b[0;34m:\u001b[0m\u001b[0;34m,\u001b[0m\u001b[0;34m:\u001b[0m\u001b[0;34m]\u001b[0m \u001b[0;34m=\u001b[0m \u001b[0mapply_lowpass\u001b[0m\u001b[0;34m(\u001b[0m\u001b[0mx\u001b[0m\u001b[0;34m,\u001b[0m \u001b[0mwavelet_filters\u001b[0m\u001b[0;34m[\u001b[0m\u001b[0;34m'phi'\u001b[0m\u001b[0;34m]\u001b[0m\u001b[0;34m[\u001b[0m\u001b[0mcurrent_resolution\u001b[0m\u001b[0;34m]\u001b[0m\u001b[0;34m,\u001b[0m \u001b[0mJ\u001b[0m\u001b[0;34m,\u001b[0m  \u001b[0mspatial_coefs\u001b[0m\u001b[0;34m)\u001b[0m\u001b[0;34m\u001b[0m\u001b[0m\n\u001b[0;32m--> 108\u001b[0;31m \u001b[0;34m\u001b[0m\u001b[0m\n\u001b[0m\u001b[1;32m    109\u001b[0m     \u001b[0;31m#First order scattering coeffs\u001b[0m\u001b[0;34m\u001b[0m\u001b[0;34m\u001b[0m\u001b[0m\n\u001b[1;32m    110\u001b[0m     \u001b[0mSview\u001b[0m \u001b[0;34m=\u001b[0m \u001b[0mS\u001b[0m\u001b[0;34m[\u001b[0m\u001b[0;34m:\u001b[0m\u001b[0;34m,\u001b[0m\u001b[0;36m1\u001b[0m\u001b[0;34m:\u001b[0m\u001b[0mJ\u001b[0m\u001b[0;34m*\u001b[0m\u001b[0mL\u001b[0m\u001b[0;34m+\u001b[0m\u001b[0;36m1\u001b[0m\u001b[0;34m,\u001b[0m\u001b[0;34m:\u001b[0m\u001b[0;34m,\u001b[0m\u001b[0;34m:\u001b[0m\u001b[0;34m]\u001b[0m\u001b[0;34m.\u001b[0m\u001b[0mview\u001b[0m\u001b[0;34m(\u001b[0m\u001b[0;34m)\u001b[0m\u001b[0;34m\u001b[0m\u001b[0m\n",
      "\u001b[0;32m/Users/ferradans/Documents/Research/ScatteringPython/scattering/scattering/scattering.py\u001b[0m in \u001b[0;36mapply_lowpass\u001b[0;34m(img, phi, J, N_scat)\u001b[0m\n\u001b[1;32m     30\u001b[0m     \u001b[0mImg_filtered\u001b[0m \u001b[0;34m=\u001b[0m \u001b[0mnp\u001b[0m\u001b[0;34m.\u001b[0m\u001b[0mreal\u001b[0m\u001b[0;34m(\u001b[0m\u001b[0mnp\u001b[0m\u001b[0;34m.\u001b[0m\u001b[0mfft\u001b[0m\u001b[0;34m.\u001b[0m\u001b[0mifft2\u001b[0m\u001b[0;34m(\u001b[0m\u001b[0mnp\u001b[0m\u001b[0;34m.\u001b[0m\u001b[0mfft\u001b[0m\u001b[0;34m.\u001b[0m\u001b[0mfft2\u001b[0m\u001b[0;34m(\u001b[0m\u001b[0mimg\u001b[0m\u001b[0;34m)\u001b[0m\u001b[0;34m*\u001b[0m\u001b[0mphi\u001b[0m\u001b[0;34m)\u001b[0m\u001b[0;34m)\u001b[0m\u001b[0;34m\u001b[0m\u001b[0m\n\u001b[1;32m     31\u001b[0m \u001b[0;31m#    ds = 2**(J-1) # -1 for the oversampling, to be sure that everything is ok\u001b[0m\u001b[0;34m\u001b[0m\u001b[0;34m\u001b[0m\u001b[0m\n\u001b[0;32m---> 32\u001b[0;31m     \u001b[0mN_nolp\u001b[0m \u001b[0;34m=\u001b[0m \u001b[0mimg\u001b[0m\u001b[0;34m.\u001b[0m\u001b[0mshape\u001b[0m\u001b[0;34m[\u001b[0m\u001b[0;34m-\u001b[0m\u001b[0;36m1\u001b[0m\u001b[0;34m]\u001b[0m\u001b[0;34m\u001b[0m\u001b[0m\n\u001b[0m\u001b[1;32m     33\u001b[0m \u001b[0;34m\u001b[0m\u001b[0m\n\u001b[1;32m     34\u001b[0m     \u001b[0mN_nolp_r\u001b[0m \u001b[0;34m=\u001b[0m \u001b[0mN_nolp\u001b[0m \u001b[0;34m//\u001b[0m \u001b[0;36m2\u001b[0m \u001b[0;34m+\u001b[0m \u001b[0;36m1\u001b[0m\u001b[0;34m\u001b[0m\u001b[0m\n",
      "\u001b[0;31mValueError\u001b[0m: operands could not be broadcast together with shapes (1,48,32) (32,32) "
     ]
    },
    {
     "data": {
      "image/png": "[encoded data removed]",
      "text/plain": [
       "<matplotlib.figure.Figure at 0x11e9245f8>"
      ]
     },
     "metadata": {},
     "output_type": "display_data"
    }
   ],
   "source": [
    "import matplotlib.pylab as plt\n",
    "%matplotlib inline\n",
    "im = resize(imagen, (48, 32))\n",
    "plt.imshow(im)\n",
    "S = scattering(im[np.newaxis,:,:], Filters,m=1)\n"
   ]
  },
  {
   "cell_type": "code",
   "execution_count": null,
   "metadata": {
    "collapsed": false
   },
   "outputs": [],
   "source": [
    "print(myscat.shape)\n",
    "print(joan_scat.shape)"
   ]
  },
  {
   "cell_type": "code",
   "execution_count": null,
   "metadata": {
    "collapsed": false
   },
   "outputs": [],
   "source": [
    "%matplotlib inline\n",
    "import matplotlib.pylab as plt\n",
    "\n",
    "plt.figure(figsize=(18,8))\n",
    "plt.subplot(1,2,1)\n",
    "plt.plot(myscat)\n",
    "plt.axis([0,8128, 0, 150])\n",
    "plt.subplot(1,2,2)\n",
    "plt.plot(joan_scat)\n",
    "plt.axis([0,8128, 0, 150])\n",
    "plt.show()"
   ]
  },
  {
   "cell_type": "code",
   "execution_count": null,
   "metadata": {
    "collapsed": false
   },
   "outputs": [],
   "source": [
    "vj = joan_scat[0:64]\n",
    "vm = myscat[0:64]\n",
    "n = np.arange(0,64)\n",
    "plt.figure(figsize=(18,8))\n",
    "#plt.subplot(1,3,1)\n",
    "plt.plot(n,vm,n,vj)\n",
    "#plt.axis([0,64, 0, 150])\n",
    "#plt.subplot(1,3,2)\n",
    "#plt.plot(n,vj)\n",
    "#plt.axis([0,64, 0, 150])\n",
    "#plt.subplot(1,3,3)\n",
    "#plt.plot(vj,vm,'*')\n",
    "#plt.axis([0,300,0,300])\n",
    "\n",
    "plt.show()"
   ]
  },
  {
   "cell_type": "code",
   "execution_count": null,
   "metadata": {
    "collapsed": false
   },
   "outputs": [],
   "source": [
    "plt.subplot(1,2,1)\n",
    "plt.imshow(np.reshape(vj,(8,8)))\n",
    "plt.subplot(1,2,2)\n",
    "plt.imshow(np.reshape(vm,(8,8)))\n",
    "plt.show()"
   ]
  },
  {
   "cell_type": "code",
   "execution_count": null,
   "metadata": {
    "collapsed": true
   },
   "outputs": [],
   "source": [
    "def apply_lowpass(img, phi, J, N_scat):\n",
    "    # NB: I could compute N_scat here, but in case we want to oversample, this\n",
    "    # may be useful. I should make a class.\n",
    "\n",
    "    #This function can be applied to a set of images and angles, the input img is assumed\n",
    "    #to be of size (num_images,L,size_x,size_y)\n",
    "\n",
    "    N_nolp = img.shape[-1]\n",
    "\n",
    "    N_nolp_r = N_nolp // 2 + 1\n",
    "    dsf = N_nolp / N_scat\n",
    "\n",
    "    # out will in the end point to a downsampled lowpassed image\n",
    "    # out = ifft(fft(img, axis=1)\n",
    "    #    * phi[0, :].reshape(1, N_nolp), axis=1)[:, ::dsf]\n",
    "\n",
    "    # TO DO: use real transforms\n",
    "    out = np.zeros((img.shape[:-1] + (N_nolp_r, 1)))\n",
    "    out.shape = out.shape[:-1]\n",
    "    # out = np.zeros((img.shape[0],img.shape[1], N_nolp_r))\n",
    "    out[:] = np.fft.rfft(img, axis=-1) * phi[0, :N_nolp_r].reshape(1, N_nolp_r)\n",
    "\n",
    "    out = np.fft.irfft(out, axis=-1)[..., ::dsf].copy()\n",
    "    out = np.fft.rfft(out, axis=-2) * phi[:N_nolp_r, 0].reshape(N_nolp_r, 1)\n",
    "    out = np.fft.irfft(out, axis=-2)[..., ::dsf, :]\n",
    "    out = 2 ** (J - 1) * np.real(out)\n",
    "\n",
    "    return out"
   ]
  },
  {
   "cell_type": "code",
   "execution_count": null,
   "metadata": {
    "collapsed": false
   },
   "outputs": [],
   "source": [
    "from scattering.scattering import apply_lowpass\n",
    "#Zero order coeffs\n",
    "spatial_coefs = 8\n",
    "Scero= apply_lowpass(imagen, wavelet_filters['phi'][0], J,  spatial_coefs)"
   ]
  },
  {
   "cell_type": "code",
   "execution_count": null,
   "metadata": {
    "collapsed": false
   },
   "outputs": [],
   "source": [
    "np.linspace(0,32,9)"
   ]
  },
  {
   "cell_type": "code",
   "execution_count": null,
   "metadata": {
    "collapsed": false
   },
   "outputs": [],
   "source": [
    "f = h5py.File('./joanphi.mat','r')\n",
    "joanphi = np.array(f['phi']).transpose()\n",
    "plt.imshow(joanphi)\n",
    "plt.colorbar()\n",
    "plt.show()"
   ]
  },
  {
   "cell_type": "code",
   "execution_count": null,
   "metadata": {
    "collapsed": false
   },
   "outputs": [],
   "source": [
    "phimio=wavelet_filters['phi'][0]\n",
    "plt.imshow(np.abs(phimio))\n",
    "plt.colorbar()\n",
    "plt.show()"
   ]
  },
  {
   "cell_type": "code",
   "execution_count": null,
   "metadata": {
    "collapsed": false
   },
   "outputs": [],
   "source": [
    "v = np.linspace(0,31,9).astype('int')\n",
    "iv =imagen[v,:]\n",
    "im = iv[:,v]\n",
    "\n",
    "plt.subplot(1,2,1)\n",
    "plt.imshow(im)\n",
    "plt.show()"
   ]
  },
  {
   "cell_type": "code",
   "execution_count": null,
   "metadata": {
    "collapsed": true
   },
   "outputs": [],
   "source": []
  },
  {
   "cell_type": "code",
   "execution_count": null,
   "metadata": {
    "collapsed": true
   },
   "outputs": [],
   "source": []
  },
  {
   "cell_type": "code",
   "execution_count": null,
   "metadata": {
    "collapsed": true
   },
   "outputs": [],
   "source": []
  },
  {
   "cell_type": "code",
   "execution_count": null,
   "metadata": {
    "collapsed": true
   },
   "outputs": [],
   "source": []
  },
  {
   "cell_type": "code",
   "execution_count": null,
   "metadata": {
    "collapsed": true
   },
   "outputs": [],
   "source": []
  },
  {
   "cell_type": "code",
   "execution_count": null,
   "metadata": {
    "collapsed": true
   },
   "outputs": [],
   "source": []
  },
  {
   "cell_type": "code",
   "execution_count": null,
   "metadata": {
    "collapsed": true
   },
   "outputs": [],
   "source": []
  },
  {
   "cell_type": "code",
   "execution_count": null,
   "metadata": {
    "collapsed": true
   },
   "outputs": [],
   "source": []
  },
  {
   "cell_type": "code",
   "execution_count": null,
   "metadata": {
    "collapsed": true
   },
   "outputs": [],
   "source": []
  },
  {
   "cell_type": "code",
   "execution_count": null,
   "metadata": {
    "collapsed": true
   },
   "outputs": [],
   "source": []
  },
  {
   "cell_type": "code",
   "execution_count": null,
   "metadata": {
    "collapsed": true
   },
   "outputs": [],
   "source": []
  },
  {
   "cell_type": "code",
   "execution_count": null,
   "metadata": {
    "collapsed": true
   },
   "outputs": [],
   "source": []
  },
  {
   "cell_type": "code",
   "execution_count": null,
   "metadata": {
    "collapsed": true
   },
   "outputs": [],
   "source": []
  },
  {
   "cell_type": "code",
   "execution_count": null,
   "metadata": {
    "collapsed": true
   },
   "outputs": [],
   "source": []
  },
  {
   "cell_type": "code",
   "execution_count": null,
   "metadata": {
    "collapsed": true
   },
   "outputs": [],
   "source": []
  }
 ],
 "metadata": {
  "kernelspec": {
   "display_name": "Python 3",
   "language": "python",
   "name": "python3"
  },
  "language_info": {
   "codemirror_mode": {
    "name": "ipython",
    "version": 3
   },
   "file_extension": ".py",
   "mimetype": "text/x-python",
   "name": "python",
   "nbconvert_exporter": "python",
   "pygments_lexer": "ipython3",
   "version": "3.5.2"
  }
 },
 "nbformat": 4,
 "nbformat_minor": 0
}
