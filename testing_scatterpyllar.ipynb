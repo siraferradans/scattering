{
 "cells": [
  {
   "cell_type": "code",
   "execution_count": 4,
   "metadata": {
    "collapsed": true
   },
   "outputs": [],
   "source": [
    "import matplotlib.pyplot as plt\n",
    "\n",
    "\n",
    "ax2.axis('off')\n",
    "ax2.imshow(hog_image_rescaled, cmap=plt.cm.gray)\n",
    "ax2.set_title('Histogram of Oriented Gradients')\n",
    "ax1.set_adjustable('box-forced')\n",
    "plt.show()"
   ]
  },
  {
   "cell_type": "code",
   "execution_count": null,
   "metadata": {
    "collapsed": true
   },
   "outputs": [],
   "source": [
    "#the first thing is to check that we can create a morlet filter and apply it to an image"
   ]
  },
  {
   "cell_type": "code",
   "execution_count": null,
   "metadata": {
    "collapsed": true
   },
   "outputs": [],
   "source": [
    "def gabor_2d(shape, sigma0, xi, theta, slant=None, pyramid=False, offset=None):\n",
    "    \"\"\"Returns a Gabor filter following the specifications\n",
    "\n",
    "    This function creates a 2D complex Gabor filter. All parameters\n",
    "    are taken to be in integer grid space\n",
    "\n",
    "\n",
    "    Parameters\n",
    "    ----------\n",
    "    shape : {tuple, list}\n",
    "        shape=(2,)\n",
    "        Indicates the shape of the output array\n",
    "    sigma_0 : float\n",
    "        Indicates the standard deviation of the filter envelope along\n",
    "        the oscillation axis\n",
    "    slant : float\n",
    "        Indicates the standard deviation of the filter envelope along\n",
    "        the axis orthogonal to the oscillation. It is given relatively\n",
    "        with respect to sigma_0 (sigma_orthog = slant * sigma_0)\n",
    "    xi : float\n",
    "        The oscillation wave number\n",
    "    theta : float\n",
    "        The oscillation wave orientation \n",
    "        (0 is a downward pointing wave vector)\n",
    "    offset : {tuple, list, ndarray}\n",
    "        shape=(2,)\n",
    "        Possible offset for the filter from the origin. Defaults to 0\n",
    "\n",
    "\n",
    "    See also\n",
    "    --------\n",
    "    Morlet wavelets\n",
    "\n",
    "    \"\"\"\n",
    "\n",
    "    # to be compatible with the Matlab version\n",
    "    shape = (shape[1], shape[0])\n",
    "\n",
    "    if slant is None:\n",
    "        slant = 1.\n",
    "    if offset is None:\n",
    "        if pyramid:\n",
    "            offset = (shape[0]/2, shape[1]/2)\n",
    "        else:\n",
    "            offset = (-(-shape[0]/2), -(-shape[1]/2))\n",
    "\n",
    "    offset = np.asanyarray(offset).reshape(2, 1, 1)\n",
    "\n",
    "    # to understand the following, note that 5 / 2 = 2, -5 / 2 = -3\n",
    "    g = np.mgrid[0:shape[0], 0:shape[1]]\n",
    "    g -= offset\n",
    "    print g[:3, :3, :]\n",
    "\n",
    "    rot = rotation_matrix_2d(theta)\n",
    "    invrot = np.linalg.inv(rot)\n",
    "    rot_g = invrot.dot(g.reshape(2, -1))\n",
    "    precision_matrix = np.diag([1., slant ** 2]) / (sigma0 ** 2)\n",
    "    mahalanobis = (rot_g * (precision_matrix.dot(rot_g))).sum(0)\n",
    "\n",
    "    raw_gabor = np.exp(-mahalanobis / 2 + 1j * xi * rot_g[0])\n",
    "\n",
    "    if pyramid:\n",
    "        gabor = raw_gabor.reshape(shape) / (2 * np.pi * sigma0**2 / slant**2)\n",
    "    else:\n",
    "        gabor = np.fft.fftshift(raw_gabor.reshape(shape)) / (\n",
    "            2 * np.pi * sigma0**2 / slant**2)\n",
    "\n",
    "    # return transposed in order to be compatible with matlab version\n",
    "    return gabor.T"
   ]
  },
  {
   "cell_type": "code",
   "execution_count": 6,
   "metadata": {
    "collapsed": false
   },
   "outputs": [
    {
     "data": {
      "text/plain": [
       "(8192,)"
      ]
     },
     "execution_count": 6,
     "metadata": {},
     "output_type": "execute_result"
    }
   ],
   "source": [
    "def morlet_2d(sigma, xi, theta, slant=None):\n",
    "#spatial domain (non-Fourier)\n",
    "    gabor = gabor_2d(sigma, xi, theta, slant)\n",
    "    envelope = np.abs(gabor)\n",
    "    K = gabor.sum() / envelope.sum()\n",
    "\n",
    "    centered = gabor - K * envelope\n",
    "\n",
    "    return centered\n"
   ]
  }
 ],
 "metadata": {
  "kernelspec": {
   "display_name": "Python 3",
   "language": "python",
   "name": "python3"
  },
  "language_info": {
   "codemirror_mode": {
    "name": "ipython",
    "version": 3
   },
   "file_extension": ".py",
   "mimetype": "text/x-python",
   "name": "python",
   "nbconvert_exporter": "python",
   "pygments_lexer": "ipython3",
   "version": "3.5.1"
  }
 },
 "nbformat": 4,
 "nbformat_minor": 0
}
