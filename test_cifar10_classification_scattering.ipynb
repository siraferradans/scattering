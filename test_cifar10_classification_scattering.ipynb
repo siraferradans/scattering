{
 "cells": [
  {
   "cell_type": "code",
   "execution_count": 1,
   "metadata": {
    "collapsed": false
   },
   "outputs": [],
   "source": [
    "from sklearn.svm import SVC\n",
    "from sklearn.preprocessing import StandardScaler, Normalizer\n",
    "from sklearn.pipeline import make_pipeline\n",
    "from sklearn.cross_validation import cross_val_score, KFold, ShuffleSplit,cross_val_predict\n",
    "from sklearn import metrics\n",
    "\n",
    "def from_features_to_classif_scores(features,labels,ftest,ltest):\n",
    "    #stack them for learning\n",
    "    features = features.reshape((len(features),-1))\n",
    "    ftest = ftest.reshape((len(ftest),-1))\n",
    "    # apply pipeline\n",
    "    n = len(features)\n",
    "    \n",
    "    gs = GridSearchCV(SVC(kernel='rbf'), param_grad={'gamma',[0.01,0.05,0.1,0.11,0.15],'C',[0.8,0.9,1,1.1,1.2]})\n",
    "    pipeline = make_pipeline(Normalizer(),StandardScaler(),gs)\n",
    "    \n",
    "    # pipeline = make_pipeline(Normalizer(),StandardScaler(),SVC(C=1.0, kernel='rbf', verbose=False))\n",
    "    cv = ShuffleSplit(n,n_iter=3,test_size=1, train_size=1)\n",
    "    \n",
    "    scores = cross_val_score(pipeline,features,labels,cv=10)\n",
    "    print(\"Accuracy: %0.2f (+/- %0.2f)\" % ((1.0-scores.mean())*100, scores.std() * 2*100))\n",
    "\n",
    "    return pipeline,scores"
   ]
  },
  {
   "cell_type": "code",
   "execution_count": 1,
   "metadata": {
    "collapsed": false
   },
   "outputs": [
    {
     "name": "stdout",
     "output_type": "stream",
     "text": [
      "Loading images:\n",
      "X_train shape: (150000, 32, 32)\n",
      "150000 train samples\n",
      "30000 test samples\n",
      "150000  images loaded in  20.403236865997314  secs\n",
      "shape data: (150000, 32, 32)\n",
      "Create filters:\n",
      "Compute  150000  scatterings:\n",
      "0 / 150000\n",
      "600 / 150000\n",
      "1200 / 150000\n",
      "1800 / 150000\n",
      "2400 / 150000\n",
      "3000 / 150000\n",
      "3600 / 150000\n",
      "4200 / 150000\n",
      "4800 / 150000\n",
      "5400 / 150000\n",
      "6000 / 150000\n",
      "6600 / 150000\n",
      "7200 / 150000\n",
      "7800 / 150000\n",
      "8400 / 150000\n",
      "9000 / 150000\n",
      "9600 / 150000\n",
      "10200 / 150000\n",
      "10800 / 150000\n",
      "11400 / 150000\n",
      "12000 / 150000\n",
      "12600 / 150000\n",
      "13200 / 150000\n",
      "13800 / 150000\n",
      "14400 / 150000\n",
      "15000 / 150000\n",
      "15600 / 150000\n",
      "16200 / 150000\n",
      "16800 / 150000\n",
      "17400 / 150000\n",
      "18000 / 150000\n",
      "18600 / 150000\n",
      "19200 / 150000\n",
      "19800 / 150000\n",
      "20400 / 150000\n",
      "21000 / 150000\n",
      "21600 / 150000\n",
      "22200 / 150000\n",
      "22800 / 150000\n",
      "23400 / 150000\n",
      "24000 / 150000\n",
      "24600 / 150000\n",
      "25200 / 150000\n",
      "25800 / 150000\n",
      "26400 / 150000\n",
      "27000 / 150000\n",
      "27600 / 150000\n",
      "28200 / 150000\n",
      "28800 / 150000\n",
      "29400 / 150000\n",
      "30000 / 150000\n",
      "30600 / 150000\n",
      "31200 / 150000\n",
      "31800 / 150000\n",
      "32400 / 150000\n",
      "33000 / 150000\n",
      "33600 / 150000\n",
      "34200 / 150000\n",
      "34800 / 150000\n",
      "35400 / 150000\n",
      "36000 / 150000\n",
      "36600 / 150000\n",
      "37200 / 150000\n",
      "37800 / 150000\n",
      "38400 / 150000\n",
      "39000 / 150000\n",
      "39600 / 150000\n",
      "40200 / 150000\n",
      "40800 / 150000\n",
      "41400 / 150000\n",
      "42000 / 150000\n",
      "42600 / 150000\n",
      "43200 / 150000\n",
      "43800 / 150000\n",
      "44400 / 150000\n",
      "45000 / 150000\n",
      "45600 / 150000\n",
      "46200 / 150000\n",
      "46800 / 150000\n",
      "47400 / 150000\n",
      "48000 / 150000\n",
      "48600 / 150000\n",
      "49200 / 150000\n",
      "49800 / 150000\n",
      "50400 / 150000\n",
      "51000 / 150000\n",
      "51600 / 150000\n",
      "52200 / 150000\n",
      "52800 / 150000\n",
      "53400 / 150000\n",
      "54000 / 150000\n",
      "54600 / 150000\n",
      "55200 / 150000\n",
      "55800 / 150000\n",
      "56400 / 150000\n",
      "57000 / 150000\n",
      "57600 / 150000\n",
      "58200 / 150000\n",
      "58800 / 150000\n",
      "59400 / 150000\n",
      "60000 / 150000\n",
      "60600 / 150000\n",
      "61200 / 150000\n",
      "61800 / 150000\n",
      "62400 / 150000\n",
      "63000 / 150000\n",
      "63600 / 150000\n",
      "64200 / 150000\n",
      "64800 / 150000\n",
      "65400 / 150000\n",
      "66000 / 150000\n",
      "66600 / 150000\n",
      "67200 / 150000\n",
      "67800 / 150000\n",
      "68400 / 150000\n",
      "69000 / 150000\n",
      "69600 / 150000\n",
      "70200 / 150000\n",
      "70800 / 150000\n",
      "71400 / 150000\n",
      "72000 / 150000\n",
      "72600 / 150000\n",
      "73200 / 150000\n",
      "73800 / 150000\n",
      "74400 / 150000\n",
      "75000 / 150000\n",
      "75600 / 150000\n",
      "76200 / 150000\n",
      "76800 / 150000\n",
      "77400 / 150000\n",
      "78000 / 150000\n",
      "78600 / 150000\n",
      "79200 / 150000\n",
      "79800 / 150000\n",
      "80400 / 150000\n",
      "81000 / 150000\n",
      "81600 / 150000\n",
      "82200 / 150000\n",
      "82800 / 150000\n",
      "83400 / 150000\n",
      "84000 / 150000\n",
      "84600 / 150000\n",
      "85200 / 150000\n",
      "85800 / 150000\n",
      "86400 / 150000\n",
      "87000 / 150000\n",
      "87600 / 150000\n",
      "88200 / 150000\n",
      "88800 / 150000\n",
      "89400 / 150000\n",
      "90000 / 150000\n",
      "90600 / 150000\n",
      "91200 / 150000\n",
      "91800 / 150000\n",
      "92400 / 150000\n",
      "93000 / 150000\n",
      "93600 / 150000\n",
      "94200 / 150000\n",
      "94800 / 150000\n",
      "95400 / 150000\n",
      "96000 / 150000\n",
      "96600 / 150000\n",
      "97200 / 150000\n",
      "97800 / 150000\n",
      "98400 / 150000\n",
      "99000 / 150000\n",
      "99600 / 150000\n",
      "100200 / 150000\n",
      "100800 / 150000\n",
      "101400 / 150000\n",
      "102000 / 150000\n",
      "102600 / 150000\n",
      "103200 / 150000\n",
      "103800 / 150000\n",
      "104400 / 150000\n",
      "105000 / 150000\n",
      "105600 / 150000\n",
      "106200 / 150000\n",
      "106800 / 150000\n",
      "107400 / 150000\n",
      "108000 / 150000\n",
      "108600 / 150000\n",
      "109200 / 150000\n",
      "109800 / 150000\n",
      "110400 / 150000\n",
      "111000 / 150000\n",
      "111600 / 150000\n",
      "112200 / 150000\n",
      "112800 / 150000\n",
      "113400 / 150000\n",
      "114000 / 150000\n",
      "114600 / 150000\n",
      "115200 / 150000\n",
      "115800 / 150000\n",
      "116400 / 150000\n",
      "117000 / 150000\n",
      "117600 / 150000\n",
      "118200 / 150000\n",
      "118800 / 150000\n",
      "119400 / 150000\n",
      "120000 / 150000\n",
      "120600 / 150000\n",
      "121200 / 150000\n",
      "121800 / 150000\n",
      "122400 / 150000\n",
      "123000 / 150000\n",
      "123600 / 150000\n",
      "124200 / 150000\n",
      "124800 / 150000\n",
      "125400 / 150000\n",
      "126000 / 150000\n",
      "126600 / 150000\n",
      "127200 / 150000\n",
      "127800 / 150000\n",
      "128400 / 150000\n",
      "129000 / 150000\n",
      "129600 / 150000\n",
      "130200 / 150000\n",
      "130800 / 150000\n",
      "131400 / 150000\n",
      "132000 / 150000\n",
      "132600 / 150000\n",
      "133200 / 150000\n",
      "133800 / 150000\n",
      "134400 / 150000\n",
      "135000 / 150000\n",
      "135600 / 150000\n",
      "136200 / 150000\n",
      "136800 / 150000\n",
      "137400 / 150000\n",
      "138000 / 150000\n",
      "138600 / 150000\n",
      "139200 / 150000\n",
      "139800 / 150000\n",
      "140400 / 150000\n",
      "141000 / 150000\n",
      "141600 / 150000\n",
      "142200 / 150000\n",
      "142800 / 150000\n",
      "143400 / 150000\n",
      "144000 / 150000\n",
      "144600 / 150000\n",
      "145200 / 150000\n",
      "145800 / 150000\n",
      "146400 / 150000\n",
      "147000 / 150000\n",
      "147600 / 150000\n",
      "148200 / 150000\n",
      "148800 / 150000\n",
      "149400 / 150000\n",
      "50000  scat. features computed in  2348.357714176178  secs.\n",
      "Now testing set:\n",
      "0 / 30000\n",
      "600 / 30000\n",
      "1200 / 30000\n",
      "1800 / 30000\n",
      "2400 / 30000\n",
      "3000 / 30000\n",
      "3600 / 30000\n",
      "4200 / 30000\n",
      "4800 / 30000\n",
      "5400 / 30000\n",
      "6000 / 30000\n",
      "6600 / 30000\n",
      "7200 / 30000\n",
      "7800 / 30000\n",
      "8400 / 30000\n",
      "9000 / 30000\n",
      "9600 / 30000\n",
      "10200 / 30000\n",
      "10800 / 30000\n",
      "11400 / 30000\n",
      "12000 / 30000\n",
      "12600 / 30000\n",
      "13200 / 30000\n",
      "13800 / 30000\n",
      "14400 / 30000\n",
      "15000 / 30000\n",
      "15600 / 30000\n",
      "16200 / 30000\n",
      "16800 / 30000\n",
      "17400 / 30000\n",
      "18000 / 30000\n",
      "18600 / 30000\n",
      "19200 / 30000\n",
      "19800 / 30000\n",
      "20400 / 30000\n",
      "21000 / 30000\n",
      "21600 / 30000\n",
      "22200 / 30000\n",
      "22800 / 30000\n",
      "23400 / 30000\n",
      "24000 / 30000\n",
      "24600 / 30000\n",
      "25200 / 30000\n",
      "25800 / 30000\n",
      "26400 / 30000\n",
      "27000 / 30000\n",
      "27600 / 30000\n",
      "28200 / 30000\n",
      "28800 / 30000\n",
      "29400 / 30000\n",
      "10000  scat. 3-color features computed in  180.18869304656982  secs.\n"
     ]
    }
   ],
   "source": [
    "n = 60000\n",
    "from load_cifar10_db import load_images_cifar,load_scattering_cifar\n",
    "X_train, y_train, X_test, y_test = load_scattering_cifar(num_images = 150000, J=3,L=8,m=1)\n",
    "num_samples = X_train.shape[0]"
   ]
  },
  {
   "cell_type": "code",
   "execution_count": 9,
   "metadata": {
    "collapsed": false
   },
   "outputs": [
    {
     "data": {
      "text/plain": [
       "(50000, 4800)"
      ]
     },
     "execution_count": 9,
     "metadata": {},
     "output_type": "execute_result"
    }
   ],
   "source": [
    "X_train.shape\n",
    "Xtrain_1d = X_train.reshape((50000,75*8*8))\n",
    "Xtrain_1d.shape\n",
    "#, y_train, X_test, y_test"
   ]
  },
  {
   "cell_type": "code",
   "execution_count": 18,
   "metadata": {
    "collapsed": false
   },
   "outputs": [
    {
     "data": {
      "text/plain": [
       "True"
      ]
     },
     "execution_count": 18,
     "metadata": {},
     "output_type": "execute_result"
    }
   ],
   "source": [
    "np.isnan(np.sum(Xtrain_1d[:]))"
   ]
  },
  {
   "cell_type": "code",
   "execution_count": 12,
   "metadata": {
    "collapsed": false
   },
   "outputs": [],
   "source": [
    "import numpy as np\n",
    "def gethomogeneus_datast(X,y,d,n):\n",
    "    num_per_class = np.int(n/d)\n",
    "    ytrain=np.reshape(y,(y.shape[0],))\n",
    "\n",
    "    X_out = []#np.zeros(n,X.shape[1],X.shape[2],X.shape[3])\n",
    "    y_out = []\n",
    "    for i_d in np.arange(d):\n",
    "        indx = np.where(ytrain.ravel()==i_d)\n",
    "\n",
    "        X_out.append(X[indx[0][0:num_per_class],:])\n",
    "        y_out.append(ytrain[indx[0][0:num_per_class],])\n",
    "\n",
    "    \n",
    "    X_out = np.concatenate(X_out,axis=0)\n",
    "    y_out = np.concatenate(y_out,axis=0)\n",
    "    #print(X_out.shape)\n",
    "    #print(y_out)\n",
    "    return X_out,y_out"
   ]
  },
  {
   "cell_type": "code",
   "execution_count": 13,
   "metadata": {
    "collapsed": false
   },
   "outputs": [
    {
     "ename": "ValueError",
     "evalue": "Input contains NaN, infinity or a value too large for dtype('float64').",
     "output_type": "error",
     "traceback": [
      "\u001b[0;31m---------------------------------------------------------------------------\u001b[0m",
      "\u001b[0;31mValueError\u001b[0m                                Traceback (most recent call last)",
      "\u001b[0;32m<ipython-input-13-5d2b00fb74b9>\u001b[0m in \u001b[0;36m<module>\u001b[0;34m()\u001b[0m\n\u001b[1;32m     14\u001b[0m \u001b[0;34m\u001b[0m\u001b[0m\n\u001b[1;32m     15\u001b[0m \u001b[0mpip_gaussian\u001b[0m \u001b[0;34m=\u001b[0m \u001b[0mmake_pipeline\u001b[0m\u001b[0;34m(\u001b[0m\u001b[0mStandardScaler\u001b[0m\u001b[0;34m(\u001b[0m\u001b[0;34m)\u001b[0m\u001b[0;34m,\u001b[0m\u001b[0mgs_gaussian\u001b[0m\u001b[0;34m)\u001b[0m\u001b[0;34m\u001b[0m\u001b[0m\n\u001b[0;32m---> 16\u001b[0;31m \u001b[0mpip_gaussian\u001b[0m\u001b[0;34m.\u001b[0m\u001b[0mfit\u001b[0m\u001b[0;34m(\u001b[0m\u001b[0mXa\u001b[0m\u001b[0;34m,\u001b[0m\u001b[0mya\u001b[0m\u001b[0;34m)\u001b[0m\u001b[0;34m\u001b[0m\u001b[0m\n\u001b[0m\u001b[1;32m     17\u001b[0m \u001b[0;34m\u001b[0m\u001b[0m\n\u001b[1;32m     18\u001b[0m \u001b[0mC_best\u001b[0m \u001b[0;34m=\u001b[0m \u001b[0mgs_gaussian\u001b[0m\u001b[0;34m.\u001b[0m\u001b[0mbest_params_\u001b[0m\u001b[0;34m[\u001b[0m\u001b[0;34m'C'\u001b[0m\u001b[0;34m]\u001b[0m\u001b[0;34m\u001b[0m\u001b[0m\n",
      "\u001b[0;32m/Users/ferradans/anaconda3/lib/python3.5/site-packages/sklearn/pipeline.py\u001b[0m in \u001b[0;36mfit\u001b[0;34m(self, X, y, **fit_params)\u001b[0m\n\u001b[1;32m    162\u001b[0m             \u001b[0mthe\u001b[0m \u001b[0mpipeline\u001b[0m\u001b[0;34m.\u001b[0m\u001b[0;34m\u001b[0m\u001b[0m\n\u001b[1;32m    163\u001b[0m         \"\"\"\n\u001b[0;32m--> 164\u001b[0;31m         \u001b[0mXt\u001b[0m\u001b[0;34m,\u001b[0m \u001b[0mfit_params\u001b[0m \u001b[0;34m=\u001b[0m \u001b[0mself\u001b[0m\u001b[0;34m.\u001b[0m\u001b[0m_pre_transform\u001b[0m\u001b[0;34m(\u001b[0m\u001b[0mX\u001b[0m\u001b[0;34m,\u001b[0m \u001b[0my\u001b[0m\u001b[0;34m,\u001b[0m \u001b[0;34m**\u001b[0m\u001b[0mfit_params\u001b[0m\u001b[0;34m)\u001b[0m\u001b[0;34m\u001b[0m\u001b[0m\n\u001b[0m\u001b[1;32m    165\u001b[0m         \u001b[0mself\u001b[0m\u001b[0;34m.\u001b[0m\u001b[0msteps\u001b[0m\u001b[0;34m[\u001b[0m\u001b[0;34m-\u001b[0m\u001b[0;36m1\u001b[0m\u001b[0;34m]\u001b[0m\u001b[0;34m[\u001b[0m\u001b[0;34m-\u001b[0m\u001b[0;36m1\u001b[0m\u001b[0;34m]\u001b[0m\u001b[0;34m.\u001b[0m\u001b[0mfit\u001b[0m\u001b[0;34m(\u001b[0m\u001b[0mXt\u001b[0m\u001b[0;34m,\u001b[0m \u001b[0my\u001b[0m\u001b[0;34m,\u001b[0m \u001b[0;34m**\u001b[0m\u001b[0mfit_params\u001b[0m\u001b[0;34m)\u001b[0m\u001b[0;34m\u001b[0m\u001b[0m\n\u001b[1;32m    166\u001b[0m         \u001b[0;32mreturn\u001b[0m \u001b[0mself\u001b[0m\u001b[0;34m\u001b[0m\u001b[0m\n",
      "\u001b[0;32m/Users/ferradans/anaconda3/lib/python3.5/site-packages/sklearn/pipeline.py\u001b[0m in \u001b[0;36m_pre_transform\u001b[0;34m(self, X, y, **fit_params)\u001b[0m\n\u001b[1;32m    143\u001b[0m         \u001b[0;32mfor\u001b[0m \u001b[0mname\u001b[0m\u001b[0;34m,\u001b[0m \u001b[0mtransform\u001b[0m \u001b[0;32min\u001b[0m \u001b[0mself\u001b[0m\u001b[0;34m.\u001b[0m\u001b[0msteps\u001b[0m\u001b[0;34m[\u001b[0m\u001b[0;34m:\u001b[0m\u001b[0;34m-\u001b[0m\u001b[0;36m1\u001b[0m\u001b[0;34m]\u001b[0m\u001b[0;34m:\u001b[0m\u001b[0;34m\u001b[0m\u001b[0m\n\u001b[1;32m    144\u001b[0m             \u001b[0;32mif\u001b[0m \u001b[0mhasattr\u001b[0m\u001b[0;34m(\u001b[0m\u001b[0mtransform\u001b[0m\u001b[0;34m,\u001b[0m \u001b[0;34m\"fit_transform\"\u001b[0m\u001b[0;34m)\u001b[0m\u001b[0;34m:\u001b[0m\u001b[0;34m\u001b[0m\u001b[0m\n\u001b[0;32m--> 145\u001b[0;31m                 \u001b[0mXt\u001b[0m \u001b[0;34m=\u001b[0m \u001b[0mtransform\u001b[0m\u001b[0;34m.\u001b[0m\u001b[0mfit_transform\u001b[0m\u001b[0;34m(\u001b[0m\u001b[0mXt\u001b[0m\u001b[0;34m,\u001b[0m \u001b[0my\u001b[0m\u001b[0;34m,\u001b[0m \u001b[0;34m**\u001b[0m\u001b[0mfit_params_steps\u001b[0m\u001b[0;34m[\u001b[0m\u001b[0mname\u001b[0m\u001b[0;34m]\u001b[0m\u001b[0;34m)\u001b[0m\u001b[0;34m\u001b[0m\u001b[0m\n\u001b[0m\u001b[1;32m    146\u001b[0m             \u001b[0;32melse\u001b[0m\u001b[0;34m:\u001b[0m\u001b[0;34m\u001b[0m\u001b[0m\n\u001b[1;32m    147\u001b[0m                 \u001b[0mXt\u001b[0m \u001b[0;34m=\u001b[0m \u001b[0mtransform\u001b[0m\u001b[0;34m.\u001b[0m\u001b[0mfit\u001b[0m\u001b[0;34m(\u001b[0m\u001b[0mXt\u001b[0m\u001b[0;34m,\u001b[0m \u001b[0my\u001b[0m\u001b[0;34m,\u001b[0m \u001b[0;34m**\u001b[0m\u001b[0mfit_params_steps\u001b[0m\u001b[0;34m[\u001b[0m\u001b[0mname\u001b[0m\u001b[0;34m]\u001b[0m\u001b[0;34m)\u001b[0m\u001b[0;31m \u001b[0m\u001b[0;31m\\\u001b[0m\u001b[0;34m\u001b[0m\u001b[0m\n",
      "\u001b[0;32m/Users/ferradans/anaconda3/lib/python3.5/site-packages/sklearn/base.py\u001b[0m in \u001b[0;36mfit_transform\u001b[0;34m(self, X, y, **fit_params)\u001b[0m\n\u001b[1;32m    456\u001b[0m         \u001b[0;32melse\u001b[0m\u001b[0;34m:\u001b[0m\u001b[0;34m\u001b[0m\u001b[0m\n\u001b[1;32m    457\u001b[0m             \u001b[0;31m# fit method of arity 2 (supervised transformation)\u001b[0m\u001b[0;34m\u001b[0m\u001b[0;34m\u001b[0m\u001b[0m\n\u001b[0;32m--> 458\u001b[0;31m             \u001b[0;32mreturn\u001b[0m \u001b[0mself\u001b[0m\u001b[0;34m.\u001b[0m\u001b[0mfit\u001b[0m\u001b[0;34m(\u001b[0m\u001b[0mX\u001b[0m\u001b[0;34m,\u001b[0m \u001b[0my\u001b[0m\u001b[0;34m,\u001b[0m \u001b[0;34m**\u001b[0m\u001b[0mfit_params\u001b[0m\u001b[0;34m)\u001b[0m\u001b[0;34m.\u001b[0m\u001b[0mtransform\u001b[0m\u001b[0;34m(\u001b[0m\u001b[0mX\u001b[0m\u001b[0;34m)\u001b[0m\u001b[0;34m\u001b[0m\u001b[0m\n\u001b[0m\u001b[1;32m    459\u001b[0m \u001b[0;34m\u001b[0m\u001b[0m\n\u001b[1;32m    460\u001b[0m \u001b[0;34m\u001b[0m\u001b[0m\n",
      "\u001b[0;32m/Users/ferradans/anaconda3/lib/python3.5/site-packages/sklearn/preprocessing/data.py\u001b[0m in \u001b[0;36mfit\u001b[0;34m(self, X, y)\u001b[0m\n\u001b[1;32m    555\u001b[0m         \u001b[0;31m# Reset internal state before fitting\u001b[0m\u001b[0;34m\u001b[0m\u001b[0;34m\u001b[0m\u001b[0m\n\u001b[1;32m    556\u001b[0m         \u001b[0mself\u001b[0m\u001b[0;34m.\u001b[0m\u001b[0m_reset\u001b[0m\u001b[0;34m(\u001b[0m\u001b[0;34m)\u001b[0m\u001b[0;34m\u001b[0m\u001b[0m\n\u001b[0;32m--> 557\u001b[0;31m         \u001b[0;32mreturn\u001b[0m \u001b[0mself\u001b[0m\u001b[0;34m.\u001b[0m\u001b[0mpartial_fit\u001b[0m\u001b[0;34m(\u001b[0m\u001b[0mX\u001b[0m\u001b[0;34m,\u001b[0m \u001b[0my\u001b[0m\u001b[0;34m)\u001b[0m\u001b[0;34m\u001b[0m\u001b[0m\n\u001b[0m\u001b[1;32m    558\u001b[0m \u001b[0;34m\u001b[0m\u001b[0m\n\u001b[1;32m    559\u001b[0m     \u001b[0;32mdef\u001b[0m \u001b[0mpartial_fit\u001b[0m\u001b[0;34m(\u001b[0m\u001b[0mself\u001b[0m\u001b[0;34m,\u001b[0m \u001b[0mX\u001b[0m\u001b[0;34m,\u001b[0m \u001b[0my\u001b[0m\u001b[0;34m=\u001b[0m\u001b[0;32mNone\u001b[0m\u001b[0;34m)\u001b[0m\u001b[0;34m:\u001b[0m\u001b[0;34m\u001b[0m\u001b[0m\n",
      "\u001b[0;32m/Users/ferradans/anaconda3/lib/python3.5/site-packages/sklearn/preprocessing/data.py\u001b[0m in \u001b[0;36mpartial_fit\u001b[0;34m(self, X, y)\u001b[0m\n\u001b[1;32m    578\u001b[0m         X = check_array(X, accept_sparse=('csr', 'csc'), copy=self.copy,\n\u001b[1;32m    579\u001b[0m                         \u001b[0mensure_2d\u001b[0m\u001b[0;34m=\u001b[0m\u001b[0;32mFalse\u001b[0m\u001b[0;34m,\u001b[0m \u001b[0mwarn_on_dtype\u001b[0m\u001b[0;34m=\u001b[0m\u001b[0;32mTrue\u001b[0m\u001b[0;34m,\u001b[0m\u001b[0;34m\u001b[0m\u001b[0m\n\u001b[0;32m--> 580\u001b[0;31m                         estimator=self, dtype=FLOAT_DTYPES)\n\u001b[0m\u001b[1;32m    581\u001b[0m \u001b[0;34m\u001b[0m\u001b[0m\n\u001b[1;32m    582\u001b[0m         \u001b[0;32mif\u001b[0m \u001b[0mX\u001b[0m\u001b[0;34m.\u001b[0m\u001b[0mndim\u001b[0m \u001b[0;34m==\u001b[0m \u001b[0;36m1\u001b[0m\u001b[0;34m:\u001b[0m\u001b[0;34m\u001b[0m\u001b[0m\n",
      "\u001b[0;32m/Users/ferradans/anaconda3/lib/python3.5/site-packages/sklearn/utils/validation.py\u001b[0m in \u001b[0;36mcheck_array\u001b[0;34m(array, accept_sparse, dtype, order, copy, force_all_finite, ensure_2d, allow_nd, ensure_min_samples, ensure_min_features, warn_on_dtype, estimator)\u001b[0m\n\u001b[1;32m    396\u001b[0m                              % (array.ndim, estimator_name))\n\u001b[1;32m    397\u001b[0m         \u001b[0;32mif\u001b[0m \u001b[0mforce_all_finite\u001b[0m\u001b[0;34m:\u001b[0m\u001b[0;34m\u001b[0m\u001b[0m\n\u001b[0;32m--> 398\u001b[0;31m             \u001b[0m_assert_all_finite\u001b[0m\u001b[0;34m(\u001b[0m\u001b[0marray\u001b[0m\u001b[0;34m)\u001b[0m\u001b[0;34m\u001b[0m\u001b[0m\n\u001b[0m\u001b[1;32m    399\u001b[0m \u001b[0;34m\u001b[0m\u001b[0m\n\u001b[1;32m    400\u001b[0m     \u001b[0mshape_repr\u001b[0m \u001b[0;34m=\u001b[0m \u001b[0m_shape_repr\u001b[0m\u001b[0;34m(\u001b[0m\u001b[0marray\u001b[0m\u001b[0;34m.\u001b[0m\u001b[0mshape\u001b[0m\u001b[0;34m)\u001b[0m\u001b[0;34m\u001b[0m\u001b[0m\n",
      "\u001b[0;32m/Users/ferradans/anaconda3/lib/python3.5/site-packages/sklearn/utils/validation.py\u001b[0m in \u001b[0;36m_assert_all_finite\u001b[0;34m(X)\u001b[0m\n\u001b[1;32m     52\u001b[0m             and not np.isfinite(X).all()):\n\u001b[1;32m     53\u001b[0m         raise ValueError(\"Input contains NaN, infinity\"\n\u001b[0;32m---> 54\u001b[0;31m                          \" or a value too large for %r.\" % X.dtype)\n\u001b[0m\u001b[1;32m     55\u001b[0m \u001b[0;34m\u001b[0m\u001b[0m\n\u001b[1;32m     56\u001b[0m \u001b[0;34m\u001b[0m\u001b[0m\n",
      "\u001b[0;31mValueError\u001b[0m: Input contains NaN, infinity or a value too large for dtype('float64')."
     ]
    }
   ],
   "source": [
    "#Linear kernel\n",
    "\n",
    "from sklearn.grid_search import GridSearchCV\n",
    "from sklearn.svm import SVC\n",
    "from sklearn.pipeline import make_pipeline\n",
    "from sklearn.metrics import accuracy_score\n",
    "from sklearn.preprocessing import StandardScaler\n",
    "\n",
    "n = 10000\n",
    "Xa,ya=gethomogeneus_datast(Xtrain_1d,y_train,10,n)    \n",
    "\n",
    "parameters = {'C':np.arange(0.75,5,0.25)}\n",
    "gs_gaussian = GridSearchCV(SVC(kernel='linear'),param_grid=parameters)\n",
    "\n",
    "pip_gaussian = make_pipeline(StandardScaler(),gs_gaussian)\n",
    "pip_gaussian.fit(Xa,ya)\n",
    "\n",
    "C_best = gs_gaussian.best_params_['C']"
   ]
  },
  {
   "cell_type": "code",
   "execution_count": 9,
   "metadata": {
    "collapsed": true
   },
   "outputs": [
    {
     "ename": "KeyboardInterrupt",
     "evalue": "",
     "output_type": "error",
     "traceback": [
      "\u001b[0;31m---------------------------------------------------------------------------\u001b[0m",
      "\u001b[0;31mKeyboardInterrupt\u001b[0m                         Traceback (most recent call last)",
      "\u001b[0;32m<ipython-input-9-9023b7916cad>\u001b[0m in \u001b[0;36m<module>\u001b[0;34m()\u001b[0m\n\u001b[1;32m     23\u001b[0m \u001b[0mnp\u001b[0m\u001b[0;34m.\u001b[0m\u001b[0mhistogram\u001b[0m\u001b[0;34m(\u001b[0m\u001b[0mya\u001b[0m\u001b[0;34m)\u001b[0m\u001b[0;34m\u001b[0m\u001b[0m\n\u001b[1;32m     24\u001b[0m \u001b[0;34m\u001b[0m\u001b[0m\n\u001b[0;32m---> 25\u001b[0;31m \u001b[0mpip_gaussian\u001b[0m\u001b[0;34m.\u001b[0m\u001b[0mfit\u001b[0m\u001b[0;34m(\u001b[0m\u001b[0mXa\u001b[0m\u001b[0;34m,\u001b[0m\u001b[0mya\u001b[0m\u001b[0;34m.\u001b[0m\u001b[0mravel\u001b[0m\u001b[0;34m(\u001b[0m\u001b[0;34m)\u001b[0m\u001b[0;34m)\u001b[0m\u001b[0;34m\u001b[0m\u001b[0m\n\u001b[0m\u001b[1;32m     26\u001b[0m \u001b[0;34m\u001b[0m\u001b[0m\n\u001b[1;32m     27\u001b[0m \u001b[0mbestC\u001b[0m \u001b[0;34m=\u001b[0m \u001b[0mgs_gaussian\u001b[0m\u001b[0;34m.\u001b[0m\u001b[0mbest_params_\u001b[0m\u001b[0;34m[\u001b[0m\u001b[0;34m'C'\u001b[0m\u001b[0;34m]\u001b[0m\u001b[0;34m\u001b[0m\u001b[0m\n",
      "\u001b[0;32m/Users/ferradans/anaconda3/lib/python3.5/site-packages/sklearn/pipeline.py\u001b[0m in \u001b[0;36mfit\u001b[0;34m(self, X, y, **fit_params)\u001b[0m\n\u001b[1;32m    163\u001b[0m         \"\"\"\n\u001b[1;32m    164\u001b[0m         \u001b[0mXt\u001b[0m\u001b[0;34m,\u001b[0m \u001b[0mfit_params\u001b[0m \u001b[0;34m=\u001b[0m \u001b[0mself\u001b[0m\u001b[0;34m.\u001b[0m\u001b[0m_pre_transform\u001b[0m\u001b[0;34m(\u001b[0m\u001b[0mX\u001b[0m\u001b[0;34m,\u001b[0m \u001b[0my\u001b[0m\u001b[0;34m,\u001b[0m \u001b[0;34m**\u001b[0m\u001b[0mfit_params\u001b[0m\u001b[0;34m)\u001b[0m\u001b[0;34m\u001b[0m\u001b[0m\n\u001b[0;32m--> 165\u001b[0;31m         \u001b[0mself\u001b[0m\u001b[0;34m.\u001b[0m\u001b[0msteps\u001b[0m\u001b[0;34m[\u001b[0m\u001b[0;34m-\u001b[0m\u001b[0;36m1\u001b[0m\u001b[0;34m]\u001b[0m\u001b[0;34m[\u001b[0m\u001b[0;34m-\u001b[0m\u001b[0;36m1\u001b[0m\u001b[0;34m]\u001b[0m\u001b[0;34m.\u001b[0m\u001b[0mfit\u001b[0m\u001b[0;34m(\u001b[0m\u001b[0mXt\u001b[0m\u001b[0;34m,\u001b[0m \u001b[0my\u001b[0m\u001b[0;34m,\u001b[0m \u001b[0;34m**\u001b[0m\u001b[0mfit_params\u001b[0m\u001b[0;34m)\u001b[0m\u001b[0;34m\u001b[0m\u001b[0m\n\u001b[0m\u001b[1;32m    166\u001b[0m         \u001b[0;32mreturn\u001b[0m \u001b[0mself\u001b[0m\u001b[0;34m\u001b[0m\u001b[0m\n\u001b[1;32m    167\u001b[0m \u001b[0;34m\u001b[0m\u001b[0m\n",
      "\u001b[0;32m/Users/ferradans/anaconda3/lib/python3.5/site-packages/sklearn/grid_search.py\u001b[0m in \u001b[0;36mfit\u001b[0;34m(self, X, y)\u001b[0m\n\u001b[1;32m    802\u001b[0m \u001b[0;34m\u001b[0m\u001b[0m\n\u001b[1;32m    803\u001b[0m         \"\"\"\n\u001b[0;32m--> 804\u001b[0;31m         \u001b[0;32mreturn\u001b[0m \u001b[0mself\u001b[0m\u001b[0;34m.\u001b[0m\u001b[0m_fit\u001b[0m\u001b[0;34m(\u001b[0m\u001b[0mX\u001b[0m\u001b[0;34m,\u001b[0m \u001b[0my\u001b[0m\u001b[0;34m,\u001b[0m \u001b[0mParameterGrid\u001b[0m\u001b[0;34m(\u001b[0m\u001b[0mself\u001b[0m\u001b[0;34m.\u001b[0m\u001b[0mparam_grid\u001b[0m\u001b[0;34m)\u001b[0m\u001b[0;34m)\u001b[0m\u001b[0;34m\u001b[0m\u001b[0m\n\u001b[0m\u001b[1;32m    805\u001b[0m \u001b[0;34m\u001b[0m\u001b[0m\n\u001b[1;32m    806\u001b[0m \u001b[0;34m\u001b[0m\u001b[0m\n",
      "\u001b[0;32m/Users/ferradans/anaconda3/lib/python3.5/site-packages/sklearn/grid_search.py\u001b[0m in \u001b[0;36m_fit\u001b[0;34m(self, X, y, parameter_iterable)\u001b[0m\n\u001b[1;32m    551\u001b[0m                                     \u001b[0mself\u001b[0m\u001b[0;34m.\u001b[0m\u001b[0mfit_params\u001b[0m\u001b[0;34m,\u001b[0m \u001b[0mreturn_parameters\u001b[0m\u001b[0;34m=\u001b[0m\u001b[0;32mTrue\u001b[0m\u001b[0;34m,\u001b[0m\u001b[0;34m\u001b[0m\u001b[0m\n\u001b[1;32m    552\u001b[0m                                     error_score=self.error_score)\n\u001b[0;32m--> 553\u001b[0;31m                 \u001b[0;32mfor\u001b[0m \u001b[0mparameters\u001b[0m \u001b[0;32min\u001b[0m \u001b[0mparameter_iterable\u001b[0m\u001b[0;34m\u001b[0m\u001b[0m\n\u001b[0m\u001b[1;32m    554\u001b[0m                 for train, test in cv)\n\u001b[1;32m    555\u001b[0m \u001b[0;34m\u001b[0m\u001b[0m\n",
      "\u001b[0;32m/Users/ferradans/anaconda3/lib/python3.5/site-packages/sklearn/externals/joblib/parallel.py\u001b[0m in \u001b[0;36m__call__\u001b[0;34m(self, iterable)\u001b[0m\n\u001b[1;32m    798\u001b[0m             \u001b[0;31m# was dispatched. In particular this covers the edge\u001b[0m\u001b[0;34m\u001b[0m\u001b[0;34m\u001b[0m\u001b[0m\n\u001b[1;32m    799\u001b[0m             \u001b[0;31m# case of Parallel used with an exhausted iterator.\u001b[0m\u001b[0;34m\u001b[0m\u001b[0;34m\u001b[0m\u001b[0m\n\u001b[0;32m--> 800\u001b[0;31m             \u001b[0;32mwhile\u001b[0m \u001b[0mself\u001b[0m\u001b[0;34m.\u001b[0m\u001b[0mdispatch_one_batch\u001b[0m\u001b[0;34m(\u001b[0m\u001b[0miterator\u001b[0m\u001b[0;34m)\u001b[0m\u001b[0;34m:\u001b[0m\u001b[0;34m\u001b[0m\u001b[0m\n\u001b[0m\u001b[1;32m    801\u001b[0m                 \u001b[0mself\u001b[0m\u001b[0;34m.\u001b[0m\u001b[0m_iterating\u001b[0m \u001b[0;34m=\u001b[0m \u001b[0;32mTrue\u001b[0m\u001b[0;34m\u001b[0m\u001b[0m\n\u001b[1;32m    802\u001b[0m             \u001b[0;32melse\u001b[0m\u001b[0;34m:\u001b[0m\u001b[0;34m\u001b[0m\u001b[0m\n",
      "\u001b[0;32m/Users/ferradans/anaconda3/lib/python3.5/site-packages/sklearn/externals/joblib/parallel.py\u001b[0m in \u001b[0;36mdispatch_one_batch\u001b[0;34m(self, iterator)\u001b[0m\n\u001b[1;32m    656\u001b[0m                 \u001b[0;32mreturn\u001b[0m \u001b[0;32mFalse\u001b[0m\u001b[0;34m\u001b[0m\u001b[0m\n\u001b[1;32m    657\u001b[0m             \u001b[0;32melse\u001b[0m\u001b[0;34m:\u001b[0m\u001b[0;34m\u001b[0m\u001b[0m\n\u001b[0;32m--> 658\u001b[0;31m                 \u001b[0mself\u001b[0m\u001b[0;34m.\u001b[0m\u001b[0m_dispatch\u001b[0m\u001b[0;34m(\u001b[0m\u001b[0mtasks\u001b[0m\u001b[0;34m)\u001b[0m\u001b[0;34m\u001b[0m\u001b[0m\n\u001b[0m\u001b[1;32m    659\u001b[0m                 \u001b[0;32mreturn\u001b[0m \u001b[0;32mTrue\u001b[0m\u001b[0;34m\u001b[0m\u001b[0m\n\u001b[1;32m    660\u001b[0m \u001b[0;34m\u001b[0m\u001b[0m\n",
      "\u001b[0;32m/Users/ferradans/anaconda3/lib/python3.5/site-packages/sklearn/externals/joblib/parallel.py\u001b[0m in \u001b[0;36m_dispatch\u001b[0;34m(self, batch)\u001b[0m\n\u001b[1;32m    564\u001b[0m \u001b[0;34m\u001b[0m\u001b[0m\n\u001b[1;32m    565\u001b[0m         \u001b[0;32mif\u001b[0m \u001b[0mself\u001b[0m\u001b[0;34m.\u001b[0m\u001b[0m_pool\u001b[0m \u001b[0;32mis\u001b[0m \u001b[0;32mNone\u001b[0m\u001b[0;34m:\u001b[0m\u001b[0;34m\u001b[0m\u001b[0m\n\u001b[0;32m--> 566\u001b[0;31m             \u001b[0mjob\u001b[0m \u001b[0;34m=\u001b[0m \u001b[0mImmediateComputeBatch\u001b[0m\u001b[0;34m(\u001b[0m\u001b[0mbatch\u001b[0m\u001b[0;34m)\u001b[0m\u001b[0;34m\u001b[0m\u001b[0m\n\u001b[0m\u001b[1;32m    567\u001b[0m             \u001b[0mself\u001b[0m\u001b[0;34m.\u001b[0m\u001b[0m_jobs\u001b[0m\u001b[0;34m.\u001b[0m\u001b[0mappend\u001b[0m\u001b[0;34m(\u001b[0m\u001b[0mjob\u001b[0m\u001b[0;34m)\u001b[0m\u001b[0;34m\u001b[0m\u001b[0m\n\u001b[1;32m    568\u001b[0m             \u001b[0mself\u001b[0m\u001b[0;34m.\u001b[0m\u001b[0mn_dispatched_batches\u001b[0m \u001b[0;34m+=\u001b[0m \u001b[0;36m1\u001b[0m\u001b[0;34m\u001b[0m\u001b[0m\n",
      "\u001b[0;32m/Users/ferradans/anaconda3/lib/python3.5/site-packages/sklearn/externals/joblib/parallel.py\u001b[0m in \u001b[0;36m__init__\u001b[0;34m(self, batch)\u001b[0m\n\u001b[1;32m    178\u001b[0m         \u001b[0;31m# Don't delay the application, to avoid keeping the input\u001b[0m\u001b[0;34m\u001b[0m\u001b[0;34m\u001b[0m\u001b[0m\n\u001b[1;32m    179\u001b[0m         \u001b[0;31m# arguments in memory\u001b[0m\u001b[0;34m\u001b[0m\u001b[0;34m\u001b[0m\u001b[0m\n\u001b[0;32m--> 180\u001b[0;31m         \u001b[0mself\u001b[0m\u001b[0;34m.\u001b[0m\u001b[0mresults\u001b[0m \u001b[0;34m=\u001b[0m \u001b[0mbatch\u001b[0m\u001b[0;34m(\u001b[0m\u001b[0;34m)\u001b[0m\u001b[0;34m\u001b[0m\u001b[0m\n\u001b[0m\u001b[1;32m    181\u001b[0m \u001b[0;34m\u001b[0m\u001b[0m\n\u001b[1;32m    182\u001b[0m     \u001b[0;32mdef\u001b[0m \u001b[0mget\u001b[0m\u001b[0;34m(\u001b[0m\u001b[0mself\u001b[0m\u001b[0;34m)\u001b[0m\u001b[0;34m:\u001b[0m\u001b[0;34m\u001b[0m\u001b[0m\n",
      "\u001b[0;32m/Users/ferradans/anaconda3/lib/python3.5/site-packages/sklearn/externals/joblib/parallel.py\u001b[0m in \u001b[0;36m__call__\u001b[0;34m(self)\u001b[0m\n\u001b[1;32m     70\u001b[0m \u001b[0;34m\u001b[0m\u001b[0m\n\u001b[1;32m     71\u001b[0m     \u001b[0;32mdef\u001b[0m \u001b[0m__call__\u001b[0m\u001b[0;34m(\u001b[0m\u001b[0mself\u001b[0m\u001b[0;34m)\u001b[0m\u001b[0;34m:\u001b[0m\u001b[0;34m\u001b[0m\u001b[0m\n\u001b[0;32m---> 72\u001b[0;31m         \u001b[0;32mreturn\u001b[0m \u001b[0;34m[\u001b[0m\u001b[0mfunc\u001b[0m\u001b[0;34m(\u001b[0m\u001b[0;34m*\u001b[0m\u001b[0margs\u001b[0m\u001b[0;34m,\u001b[0m \u001b[0;34m**\u001b[0m\u001b[0mkwargs\u001b[0m\u001b[0;34m)\u001b[0m \u001b[0;32mfor\u001b[0m \u001b[0mfunc\u001b[0m\u001b[0;34m,\u001b[0m \u001b[0margs\u001b[0m\u001b[0;34m,\u001b[0m \u001b[0mkwargs\u001b[0m \u001b[0;32min\u001b[0m \u001b[0mself\u001b[0m\u001b[0;34m.\u001b[0m\u001b[0mitems\u001b[0m\u001b[0;34m]\u001b[0m\u001b[0;34m\u001b[0m\u001b[0m\n\u001b[0m\u001b[1;32m     73\u001b[0m \u001b[0;34m\u001b[0m\u001b[0m\n\u001b[1;32m     74\u001b[0m     \u001b[0;32mdef\u001b[0m \u001b[0m__len__\u001b[0m\u001b[0;34m(\u001b[0m\u001b[0mself\u001b[0m\u001b[0;34m)\u001b[0m\u001b[0;34m:\u001b[0m\u001b[0;34m\u001b[0m\u001b[0m\n",
      "\u001b[0;32m/Users/ferradans/anaconda3/lib/python3.5/site-packages/sklearn/externals/joblib/parallel.py\u001b[0m in \u001b[0;36m<listcomp>\u001b[0;34m(.0)\u001b[0m\n\u001b[1;32m     70\u001b[0m \u001b[0;34m\u001b[0m\u001b[0m\n\u001b[1;32m     71\u001b[0m     \u001b[0;32mdef\u001b[0m \u001b[0m__call__\u001b[0m\u001b[0;34m(\u001b[0m\u001b[0mself\u001b[0m\u001b[0;34m)\u001b[0m\u001b[0;34m:\u001b[0m\u001b[0;34m\u001b[0m\u001b[0m\n\u001b[0;32m---> 72\u001b[0;31m         \u001b[0;32mreturn\u001b[0m \u001b[0;34m[\u001b[0m\u001b[0mfunc\u001b[0m\u001b[0;34m(\u001b[0m\u001b[0;34m*\u001b[0m\u001b[0margs\u001b[0m\u001b[0;34m,\u001b[0m \u001b[0;34m**\u001b[0m\u001b[0mkwargs\u001b[0m\u001b[0;34m)\u001b[0m \u001b[0;32mfor\u001b[0m \u001b[0mfunc\u001b[0m\u001b[0;34m,\u001b[0m \u001b[0margs\u001b[0m\u001b[0;34m,\u001b[0m \u001b[0mkwargs\u001b[0m \u001b[0;32min\u001b[0m \u001b[0mself\u001b[0m\u001b[0;34m.\u001b[0m\u001b[0mitems\u001b[0m\u001b[0;34m]\u001b[0m\u001b[0;34m\u001b[0m\u001b[0m\n\u001b[0m\u001b[1;32m     73\u001b[0m \u001b[0;34m\u001b[0m\u001b[0m\n\u001b[1;32m     74\u001b[0m     \u001b[0;32mdef\u001b[0m \u001b[0m__len__\u001b[0m\u001b[0;34m(\u001b[0m\u001b[0mself\u001b[0m\u001b[0;34m)\u001b[0m\u001b[0;34m:\u001b[0m\u001b[0;34m\u001b[0m\u001b[0m\n",
      "\u001b[0;32m/Users/ferradans/anaconda3/lib/python3.5/site-packages/sklearn/cross_validation.py\u001b[0m in \u001b[0;36m_fit_and_score\u001b[0;34m(estimator, X, y, scorer, train, test, verbose, parameters, fit_params, return_train_score, return_parameters, error_score)\u001b[0m\n\u001b[1;32m   1529\u001b[0m             \u001b[0mestimator\u001b[0m\u001b[0;34m.\u001b[0m\u001b[0mfit\u001b[0m\u001b[0;34m(\u001b[0m\u001b[0mX_train\u001b[0m\u001b[0;34m,\u001b[0m \u001b[0;34m**\u001b[0m\u001b[0mfit_params\u001b[0m\u001b[0;34m)\u001b[0m\u001b[0;34m\u001b[0m\u001b[0m\n\u001b[1;32m   1530\u001b[0m         \u001b[0;32melse\u001b[0m\u001b[0;34m:\u001b[0m\u001b[0;34m\u001b[0m\u001b[0m\n\u001b[0;32m-> 1531\u001b[0;31m             \u001b[0mestimator\u001b[0m\u001b[0;34m.\u001b[0m\u001b[0mfit\u001b[0m\u001b[0;34m(\u001b[0m\u001b[0mX_train\u001b[0m\u001b[0;34m,\u001b[0m \u001b[0my_train\u001b[0m\u001b[0;34m,\u001b[0m \u001b[0;34m**\u001b[0m\u001b[0mfit_params\u001b[0m\u001b[0;34m)\u001b[0m\u001b[0;34m\u001b[0m\u001b[0m\n\u001b[0m\u001b[1;32m   1532\u001b[0m \u001b[0;34m\u001b[0m\u001b[0m\n\u001b[1;32m   1533\u001b[0m     \u001b[0;32mexcept\u001b[0m \u001b[0mException\u001b[0m \u001b[0;32mas\u001b[0m \u001b[0me\u001b[0m\u001b[0;34m:\u001b[0m\u001b[0;34m\u001b[0m\u001b[0m\n",
      "\u001b[0;32m/Users/ferradans/anaconda3/lib/python3.5/site-packages/sklearn/svm/base.py\u001b[0m in \u001b[0;36mfit\u001b[0;34m(self, X, y, sample_weight)\u001b[0m\n\u001b[1;32m    191\u001b[0m \u001b[0;34m\u001b[0m\u001b[0m\n\u001b[1;32m    192\u001b[0m         \u001b[0mseed\u001b[0m \u001b[0;34m=\u001b[0m \u001b[0mrnd\u001b[0m\u001b[0;34m.\u001b[0m\u001b[0mrandint\u001b[0m\u001b[0;34m(\u001b[0m\u001b[0mnp\u001b[0m\u001b[0;34m.\u001b[0m\u001b[0miinfo\u001b[0m\u001b[0;34m(\u001b[0m\u001b[0;34m'i'\u001b[0m\u001b[0;34m)\u001b[0m\u001b[0;34m.\u001b[0m\u001b[0mmax\u001b[0m\u001b[0;34m)\u001b[0m\u001b[0;34m\u001b[0m\u001b[0m\n\u001b[0;32m--> 193\u001b[0;31m         \u001b[0mfit\u001b[0m\u001b[0;34m(\u001b[0m\u001b[0mX\u001b[0m\u001b[0;34m,\u001b[0m \u001b[0my\u001b[0m\u001b[0;34m,\u001b[0m \u001b[0msample_weight\u001b[0m\u001b[0;34m,\u001b[0m \u001b[0msolver_type\u001b[0m\u001b[0;34m,\u001b[0m \u001b[0mkernel\u001b[0m\u001b[0;34m,\u001b[0m \u001b[0mrandom_seed\u001b[0m\u001b[0;34m=\u001b[0m\u001b[0mseed\u001b[0m\u001b[0;34m)\u001b[0m\u001b[0;34m\u001b[0m\u001b[0m\n\u001b[0m\u001b[1;32m    194\u001b[0m         \u001b[0;31m# see comment on the other call to np.iinfo in this file\u001b[0m\u001b[0;34m\u001b[0m\u001b[0;34m\u001b[0m\u001b[0m\n\u001b[1;32m    195\u001b[0m \u001b[0;34m\u001b[0m\u001b[0m\n",
      "\u001b[0;32m/Users/ferradans/anaconda3/lib/python3.5/site-packages/sklearn/svm/base.py\u001b[0m in \u001b[0;36m_dense_fit\u001b[0;34m(self, X, y, sample_weight, solver_type, kernel, random_seed)\u001b[0m\n\u001b[1;32m    249\u001b[0m                 \u001b[0mcache_size\u001b[0m\u001b[0;34m=\u001b[0m\u001b[0mself\u001b[0m\u001b[0;34m.\u001b[0m\u001b[0mcache_size\u001b[0m\u001b[0;34m,\u001b[0m \u001b[0mcoef0\u001b[0m\u001b[0;34m=\u001b[0m\u001b[0mself\u001b[0m\u001b[0;34m.\u001b[0m\u001b[0mcoef0\u001b[0m\u001b[0;34m,\u001b[0m\u001b[0;34m\u001b[0m\u001b[0m\n\u001b[1;32m    250\u001b[0m                 \u001b[0mgamma\u001b[0m\u001b[0;34m=\u001b[0m\u001b[0mself\u001b[0m\u001b[0;34m.\u001b[0m\u001b[0m_gamma\u001b[0m\u001b[0;34m,\u001b[0m \u001b[0mepsilon\u001b[0m\u001b[0;34m=\u001b[0m\u001b[0mself\u001b[0m\u001b[0;34m.\u001b[0m\u001b[0mepsilon\u001b[0m\u001b[0;34m,\u001b[0m\u001b[0;34m\u001b[0m\u001b[0m\n\u001b[0;32m--> 251\u001b[0;31m                 max_iter=self.max_iter, random_seed=random_seed)\n\u001b[0m\u001b[1;32m    252\u001b[0m \u001b[0;34m\u001b[0m\u001b[0m\n\u001b[1;32m    253\u001b[0m         \u001b[0mself\u001b[0m\u001b[0;34m.\u001b[0m\u001b[0m_warn_from_fit_status\u001b[0m\u001b[0;34m(\u001b[0m\u001b[0;34m)\u001b[0m\u001b[0;34m\u001b[0m\u001b[0m\n",
      "\u001b[0;31mKeyboardInterrupt\u001b[0m: "
     ]
    }
   ],
   "source": [
    "##### Gaussian kernel grid search\n",
    "from sklearn.grid_search import GridSearchCV\n",
    "from sklearn.svm import SVC\n",
    "from sklearn.pipeline import make_pipeline\n",
    "from sklearn.metrics import accuracy_score\n",
    "from sklearn.preprocessing import StandardScaler\n",
    "\n",
    "\n",
    "#gammavec = 10**np.arange(-2.25,-2.15,0.01)# got 0.00616595 #np.array(10**np.arange(-3,-0.5,0.1)) got 0.0063095734448\n",
    "gammavec = 10**np.arange(0.,0.15,0.05) #0.3-1.5(0.25) got 1.995 #(-1,0.5,0.1) got 0.5\n",
    "gammavec.shape = (gammavec.shape[0])\n",
    "#Cvec = np.arange(3.15,3.55,0.10) #got 3.25 #np.arange(0.5,4,0.25) got 3.25\n",
    "Cvec = np.arange(4.1,4.4,0.1) #3-5(0.25))got 4.25  #4-5, 4.0 (0.5)\n",
    "Cvec.shape=(Cvec.shape[0])\n",
    "parameters = {\"C\":Cvec,\n",
    "              \"gamma\":gammavec}\n",
    "\n",
    "gs_gaussian = GridSearchCV(SVC(kernel='rbf'),parameters)\n",
    "pip_gaussian = make_pipeline(StandardScaler(),gs_gaussian)\n",
    "n = 10000\n",
    "Xa,ya=gethomogeneus_datast(Xtrain_1d,ytrain,10,n)\n",
    "\n",
    "np.histogram(ya)\n",
    "\n",
    "pip_gaussian.fit(Xa,ya.ravel())\n",
    "\n",
    "bestC = gs_gaussian.best_params_['C']\n",
    "bestgamma = gs_gaussian.best_params_['gamma']\n",
    "print(bestgamma)\n",
    "print(bestC)"
   ]
  },
  {
   "cell_type": "code",
   "execution_count": null,
   "metadata": {
    "collapsed": true
   },
   "outputs": [],
   "source": [
    "from sklearn.grid_search import GridSearchCV\n",
    "from sklearn.svm import SVC\n",
    "from sklearn.pipeline import make_pipeline\n",
    "from sklearn.metrics import accuracy_score\n",
    "from sklearn.preprocessing import MinMaxScaler,StandardScaler, Normalizer\n",
    "\n",
    "gammavec = np.array(10**np.arange(0.46,0.52,0.01)) #np.array(10**np.arange(-0.1,1,0.3))  best 0.5 #np.array(10**np.arange(-3,-0.5,0.1)) got 0.0063095734448\n",
    "gammavec.shape = (6)\n",
    "Cvec = np.arange(3.8,3.95,0.05)\n",
    "#Cvec.append(1) #np.arange(3.15,3.55,0.10) #np.arange(0.5,4,0.25) got 3.25\n",
    "Cvec.shape=(4)\n",
    "parameters = {\"C\":Cvec,\n",
    "              \"gamma\":gammavec}\n",
    "\n",
    "gs_gaussian = GridSearchCV(SVC(kernel='rbf'),parameters)\n",
    "pip_gaussian = make_pipeline(StandardScaler(),gs_gaussian)\n",
    "pip_gaussian.fit(Xa,ya)\n",
    "\n",
    "bestC = gs_gaussian.best_params_['C']\n",
    "bestgamma = gs_gaussian.best_params_['gamma']\n",
    "print(bestC)\n",
    "print(bestgamma)\n",
    "gs_gaussian = SVC(kernel='rbf',C=bestC,gamma=bestgamma)\n",
    "pip_gaussian = make_pipeline(MinMaxScaler((-1,1)),Normalizer(),gs_gaussian)\n",
    "\n",
    "pip_gaussian.fit(Xa,ya)\n",
    "out=pip_gaussian.predict(Xtest_1d)\n",
    "score = 1.0-accuracy_score(ytest, out)\n",
    "print(score) # C=3, gamma = 3.16227766, score=0.0139\n",
    "#C=3.9, gamma = 2.88403150313 score=0.0137"
   ]
  },
  {
   "cell_type": "code",
   "execution_count": null,
   "metadata": {
    "collapsed": false
   },
   "outputs": [],
   "source": [
    "from skimage.color.colorconv import rgb2yuv,yuv2rgb\n",
    "\n",
    "Xta = X_train.transpose((3,2,0,1))/255\n",
    "Iyuv=rgb2yuv(Xta)\n",
    "Iyuv = Iyuv.transpose((2,3,0,1)).copy()\n",
    "Iyuv.shape = (num_samples*3,32,32)"
   ]
  },
  {
   "cell_type": "code",
   "execution_count": null,
   "metadata": {
    "collapsed": false
   },
   "outputs": [],
   "source": [
    "im = Iyuv[0:3,:,:].transpose((1,2,0))                      \n",
    "imvuelta = yuv2rgb(im)\n",
    "imvuelta.max()"
   ]
  },
  {
   "cell_type": "code",
   "execution_count": null,
   "metadata": {
    "collapsed": false
   },
   "outputs": [],
   "source": [
    "import matplotlib.pylab as plt \n",
    "%matplotlib inline\n",
    "indx = 0\n",
    "plt.subplot(1,2,1)\n",
    "plt.imshow(imvuelta)\n",
    "plt.subplot(1,2,2)\n",
    "x = X_train[indx,:,:,:]\n",
    "x.shape\n",
    "plt.imshow(x.transpose((2,1,0))/255)\n",
    "plt.show()"
   ]
  },
  {
   "cell_type": "code",
   "execution_count": null,
   "metadata": {
    "collapsed": false
   },
   "outputs": [],
   "source": [
    "import matplotlib.pylab as plt \n",
    "%matplotlib inline\n",
    "indx = 0\n",
    "plt.subplot(1,2,1)\n",
    "plt.imshow(Ivuelta[:,:,indx,:])\n",
    "plt.subplot(1,2,2)\n",
    "x = X_train[indx,:,:,:]\n",
    "x.shape\n",
    "plt.imshow(x.transpose((2,1,0))/255)\n",
    "plt.show()"
   ]
  },
  {
   "cell_type": "code",
   "execution_count": null,
   "metadata": {
    "collapsed": false
   },
   "outputs": [],
   "source": [
    "n = 60000\n",
    "from load_mnist_db import load_scattering_mnist\n",
    "\n",
    "import time as time\n",
    "import numpy as np\n",
    "from keras.datasets import mnist\n",
    "num_images = n\n",
    "px=32\n",
    "\n",
    "Xtrain,ytrain,Xtest,ytest = load_scattering_mnist(num_images = num_images, px=px,J=3,L=6,m=2)\n",
    "Xtrain_1d = Xtrain.reshape((len(Xtrain),-1))\n",
    "num_samples,num_features = Xtrain_1d.shape"
   ]
  },
  {
   "cell_type": "code",
   "execution_count": null,
   "metadata": {
    "collapsed": false
   },
   "outputs": [],
   "source": [
    "Xtrain_1d = Xtrain.reshape((len(Xtrain),-1))\n",
    "Xtest_1d = Xtest.reshape((len(Xtest),-1))\n",
    "Xtest_1d.shape"
   ]
  },
  {
   "cell_type": "code",
   "execution_count": null,
   "metadata": {
    "collapsed": false
   },
   "outputs": [],
   "source": [
    "\"\"\"\n",
    "import os, sys\n",
    "import scipy.misc\n",
    "import scipy.io\n",
    "print('saving data in ./mnist_scat_complet.mat')\n",
    "\n",
    "scipy.io.savemat('./mnist_scat_complet.mat', \n",
    "                 mdict={'ytest': ytest, 'xtest': Xtest, \n",
    "                        'ytrain': ytrain, 'xtrain': Xtrain })\n",
    "print('saving done!')\n",
    "\"\"\""
   ]
  },
  {
   "cell_type": "code",
   "execution_count": null,
   "metadata": {
    "collapsed": false
   },
   "outputs": [],
   "source": [
    "\"\"\"\n",
    "import h5py\n",
    "import numpy as np\n",
    "\n",
    "f = h5py.File('mnist_scat_complet.mat')\n",
    "Xtrain = np.array(f['xtrain']).transpose(3,2,1,0)\n",
    "Xtest = np.array(f['xtest']).transpose(3,2,1,0)\n",
    "ytrain = f['ytrain']\n",
    "ytest = f['ytest']\n",
    "\"\"\""
   ]
  },
  {
   "cell_type": "code",
   "execution_count": null,
   "metadata": {
    "collapsed": false
   },
   "outputs": [],
   "source": [
    "def gethomogeneus_datast(X,y,d,n):\n",
    "    num_per_class = np.int(n/d)\n",
    "    ytrain=np.reshape(y,(y.shape[0],))\n",
    "\n",
    "    X_out = []#np.zeros(n,X.shape[1],X.shape[2],X.shape[3])\n",
    "    y_out = []\n",
    "    for i_d in np.arange(d):\n",
    "        indx = np.where(ytrain.ravel()==i_d)\n",
    "\n",
    "        X_out.append(X[indx[0][0:num_per_class],:])\n",
    "        y_out.append(ytrain[indx[0][0:num_per_class],])\n",
    "\n",
    "    \n",
    "    X_out = np.concatenate(X_out,axis=0)\n",
    "    y_out = np.concatenate(y_out,axis=0)\n",
    "    #print(X_out.shape)\n",
    "    #print(y_out)\n",
    "    return X_out,y_out"
   ]
  },
  {
   "cell_type": "code",
   "execution_count": null,
   "metadata": {
    "collapsed": false
   },
   "outputs": [],
   "source": [
    "gammavec = 10**np.arange(-3,-1,0.1)\n",
    "gammavec.shape = (gammavec.shape[0])\n",
    "gammavec.shape\n",
    "Cvec = np.arange(1,3.5,0.5)\n",
    "Cvec.shape=(Cvec.shape[0])\n",
    "Cvec.shape"
   ]
  },
  {
   "cell_type": "code",
   "execution_count": null,
   "metadata": {
    "collapsed": false
   },
   "outputs": [],
   "source": [
    "##### Gaussian kernel grid search\n",
    "from sklearn.grid_search import GridSearchCV\n",
    "from sklearn.svm import SVC\n",
    "from sklearn.pipeline import make_pipeline\n",
    "from sklearn.metrics import accuracy_score\n",
    "from sklearn.preprocessing import MinMaxScaler, Normalizer\n",
    "\n",
    "\n",
    "#gammavec = 10**np.arange(-2.25,-2.15,0.01)# got 0.00616595 #np.array(10**np.arange(-3,-0.5,0.1)) got 0.0063095734448\n",
    "gammavec = 10**np.arange(0.,0.15,0.05) #0.3-1.5(0.25) got 1.995 #(-1,0.5,0.1) got 0.5\n",
    "gammavec.shape = (gammavec.shape[0])\n",
    "#Cvec = np.arange(3.15,3.55,0.10) #got 3.25 #np.arange(0.5,4,0.25) got 3.25\n",
    "Cvec = np.arange(4.1,4.4,0.1) #3-5(0.25))got 4.25  #4-5, 4.0 (0.5)\n",
    "Cvec.shape=(Cvec.shape[0])\n",
    "parameters = {\"C\":Cvec,\n",
    "              \"gamma\":gammavec}\n",
    "\n",
    "gs_gaussian = GridSearchCV(SVC(kernel='rbf'),parameters)\n",
    "pip_gaussian = make_pipeline(MinMaxScaler((-1,1)),Normalizer(),gs_gaussian)\n",
    "n = 10000\n",
    "Xa,ya=gethomogeneus_datast(Xtrain_1d,ytrain,10,n)\n",
    "\n",
    "np.histogram(ya)\n",
    "\n",
    "pip_gaussian.fit(Xa,ya.ravel())\n",
    "\n",
    "bestC = gs_gaussian.best_params_['C']\n",
    "bestgamma = gs_gaussian.best_params_['gamma']\n",
    "print(bestgamma)\n",
    "print(bestC)"
   ]
  },
  {
   "cell_type": "code",
   "execution_count": null,
   "metadata": {
    "collapsed": false
   },
   "outputs": [],
   "source": [
    "np.log10(1.1220184543)"
   ]
  },
  {
   "cell_type": "code",
   "execution_count": null,
   "metadata": {
    "collapsed": false
   },
   "outputs": [],
   "source": [
    "bestC = 4\n",
    "bestgamma =10**0.4"
   ]
  },
  {
   "cell_type": "code",
   "execution_count": null,
   "metadata": {
    "collapsed": false
   },
   "outputs": [],
   "source": [
    "print(np.log10(bestgamma))\n",
    "gammavec\n",
    "print(10**np.arange(-2.25,-2.15,0.01))\n",
    "#print(gammavec)\n",
    "print(bestgamma)"
   ]
  },
  {
   "cell_type": "code",
   "execution_count": null,
   "metadata": {
    "collapsed": false
   },
   "outputs": [],
   "source": [
    "print(bestC)\n",
    "Cvec\n",
    "np.arange(3.15,3.55,0.10)"
   ]
  },
  {
   "cell_type": "code",
   "execution_count": null,
   "metadata": {
    "collapsed": false
   },
   "outputs": [],
   "source": [
    "########### Gaussian kernel methods\n",
    "\n",
    "from sklearn.grid_search import GridSearchCV\n",
    "from sklearn.svm import SVC\n",
    "from sklearn.pipeline import make_pipeline\n",
    "from sklearn.metrics import accuracy_score\n",
    "from sklearn.preprocessing import MinMaxScaler,StandardScaler, Normalizer\n",
    "\n",
    "num_items,num_features = Xtrain_1d.shape\n",
    "\n",
    "ns = [300, 1000, 2000, 5000, 10000,20000, 40000, 60000]\n",
    "score_gaussian = np.zeros((len(ns),1))\n",
    "for i,n in enumerate(ns):\n",
    "    #  gs_gaussian = GridSearchCV(SVC(kernel='rbf'),param_grid=parameters)\n",
    "    gs_gaussian = SVC(kernel='rbf',C=bestC,gamma=bestgamma)\n",
    "    pip_gaussian = make_pipeline(MinMaxScaler((-1,1)),Normalizer(),gs_gaussian)\n",
    "\n",
    "#    gs_gaussian = SVC(kernel='rbf',gamma=0.0018)\n",
    "#    pip_gaussian = make_pipeline(StandardScaler(),Normalizer(),gs_gaussian)\n",
    "\n",
    "    Xa,ya=gethomogeneus_datast(Xtrain_1d,ytrain,10,n) \n",
    "    pip_gaussian.fit(Xa,ya)\n",
    "    out=pip_gaussian.predict(Xtest_1d)\n",
    "    score_gaussian[i] = 1.0-accuracy_score(ytest, out)\n",
    "    print(score_gaussian[i])\n",
    "    \n",
    "score_gaussian"
   ]
  },
  {
   "cell_type": "code",
   "execution_count": null,
   "metadata": {
    "collapsed": false
   },
   "outputs": [],
   "source": [
    "print(bestC)\n",
    "print(bestgamma)"
   ]
  },
  {
   "cell_type": "code",
   "execution_count": null,
   "metadata": {
    "collapsed": false
   },
   "outputs": [],
   "source": [
    "np.arange(-3,-0.5,0.1).shape\n",
    "n = 10000\n",
    "Xa,ya=gethomogeneus_datast(Xtrain_1d,ytrain,10,n)"
   ]
  },
  {
   "cell_type": "code",
   "execution_count": null,
   "metadata": {
    "collapsed": false
   },
   "outputs": [],
   "source": [
    "from sklearn.grid_search import GridSearchCV\n",
    "from sklearn.svm import SVC\n",
    "from sklearn.pipeline import make_pipeline\n",
    "from sklearn.metrics import accuracy_score\n",
    "from sklearn.preprocessing import MinMaxScaler,StandardScaler, Normalizer\n",
    "\n",
    "gammavec = np.array(10**np.arange(0.46,0.52,0.01)) #np.array(10**np.arange(-0.1,1,0.3))  best 0.5 #np.array(10**np.arange(-3,-0.5,0.1)) got 0.0063095734448\n",
    "gammavec.shape = (6)\n",
    "Cvec = np.arange(3.8,3.95,0.05)\n",
    "#Cvec.append(1) #np.arange(3.15,3.55,0.10) #np.arange(0.5,4,0.25) got 3.25\n",
    "Cvec.shape=(4)\n",
    "parameters = {\"C\":Cvec,\n",
    "              \"gamma\":gammavec}\n",
    "\n",
    "gs_gaussian = GridSearchCV(SVC(kernel='rbf'),parameters)\n",
    "pip_gaussian = make_pipeline(MinMaxScaler((-1,1)),Normalizer(),gs_gaussian)\n",
    "pip_gaussian.fit(Xa,ya)\n",
    "\n",
    "bestC = gs_gaussian.best_params_['C']\n",
    "bestgamma = gs_gaussian.best_params_['gamma']\n",
    "print(bestC)\n",
    "print(bestgamma)\n",
    "gs_gaussian = SVC(kernel='rbf',C=bestC,gamma=bestgamma)\n",
    "pip_gaussian = make_pipeline(MinMaxScaler((-1,1)),Normalizer(),gs_gaussian)\n",
    "\n",
    "pip_gaussian.fit(Xa,ya)\n",
    "out=pip_gaussian.predict(Xtest_1d)\n",
    "score = 1.0-accuracy_score(ytest, out)\n",
    "print(score) # C=3, gamma = 3.16227766, score=0.0139\n",
    "#C=3.9, gamma = 2.88403150313 score=0.0137"
   ]
  },
  {
   "cell_type": "code",
   "execution_count": null,
   "metadata": {
    "collapsed": false
   },
   "outputs": [],
   "source": [
    "n"
   ]
  },
  {
   "cell_type": "code",
   "execution_count": null,
   "metadata": {
    "collapsed": false
   },
   "outputs": [],
   "source": [
    "from sklearn.grid_search import GridSearchCV\n",
    "from sklearn.svm import SVC\n",
    "from sklearn.pipeline import make_pipeline\n",
    "from sklearn.metrics import accuracy_score\n",
    "from sklearn.preprocessing import MinMaxScaler,Normalizer\n",
    "\n",
    "n = 10000\n",
    "Xa,ya=gethomogeneus_datast(Xtrain_1d,ytrain,10,n)    \n",
    "\n",
    "parameters = {'C':np.arange(0.75,5,0.25)}\n",
    "gs_gaussian = GridSearchCV(SVC(kernel='linear'),param_grid=parameters)\n",
    "\n",
    "pip_gaussian = make_pipeline(MinMaxScaler((-1,1)),Normalizer(),gs_gaussian)\n",
    "pip_gaussian.fit(Xa,ya)\n",
    "\n",
    "C_best = gs_gaussian.best_params_['C']"
   ]
  },
  {
   "cell_type": "code",
   "execution_count": null,
   "metadata": {
    "collapsed": false
   },
   "outputs": [],
   "source": [
    "C_best = gs_gaussian.best_params_['C']"
   ]
  },
  {
   "cell_type": "code",
   "execution_count": null,
   "metadata": {
    "collapsed": false
   },
   "outputs": [],
   "source": [
    "### linear\n",
    "\n",
    "from sklearn.grid_search import GridSearchCV\n",
    "from sklearn.svm import SVC\n",
    "from sklearn.pipeline import make_pipeline\n",
    "from sklearn.metrics import accuracy_score\n",
    "from sklearn.preprocessing import MinMaxScaler,Normalizer\n",
    "\n",
    "num_items,num_features = Xtrain_1d.shape\n",
    "\n",
    "ns = [300, 1000, 2000, 5000, 10000]\n",
    "score_gaussian = np.zeros((5,1))\n",
    "for i,n in enumerate(ns):\n",
    "    #  gs_gaussian = GridSearchCV(SVC(kernel='rbf'),param_grid=parameters)\n",
    "    gs_gaussian = SVC(kernel='linear',C=C_best)\n",
    "    pip_gaussian = make_pipeline(MinMaxScaler((-1,1)),Normalizer(),gs_gaussian)\n",
    "\n",
    "#    gs_gaussian = SVC(kernel='rbf',gamma=0.0018)\n",
    "#    pip_gaussian = make_pipeline(StandardScaler(),Normalizer(),gs_gaussian)\n",
    "\n",
    "    Xa,ya=gethomogeneus_datast(Xtrain_1d,ytrain,10,n)    \n",
    "    pip_gaussian.fit(Xa,ya)\n",
    "    out=pip_gaussian.predict(Xtest_1d)\n",
    "    score_gaussian[i] = 1.0-accuracy_score(ytest, out)\n",
    "    print(score_gaussian[i])\n",
    "    \n",
    "score_gaussian"
   ]
  },
  {
   "cell_type": "code",
   "execution_count": null,
   "metadata": {
    "collapsed": false
   },
   "outputs": [],
   "source": [
    "Xtest_1d = Xtest.reshape((len(Xtest),-1))\n",
    "Xe = normalize(Xtest_1d)\n",
    "Xe = scale(Xe)\n",
    "\n",
    "predictedY = gs_linear.predict(Xe)\n",
    "score = accuracy_score(ytest, predictedY)\n",
    "score"
   ]
  },
  {
   "cell_type": "code",
   "execution_count": null,
   "metadata": {
    "collapsed": true
   },
   "outputs": [],
   "source": [
    "parameters = {\"C\":[1,1.1,1.11,1.05] ,\n",
    "              \"gamma\":[0.1/num_features,1/num_features,10./num_features]}\n",
    "gs_gaussian = GridSearchCV(SVC(kernel='rbf'),param_grid=parameters)\n",
    "\n",
    "X = normalize(Xtrain_1d[0:n,:])\n",
    "X = scale(X)\n",
    "\n",
    "gs_gaussian.fit(X,ytrain[0:n])\n",
    "gs_gaussian.best_params_\n",
    "\n",
    "Xtest_1d = Xtest.reshape((len(Xtest),-1))\n",
    "Xe = normalize(Xtest_1d)\n",
    "Xe = scale(Xe)\n",
    "\n",
    "predictedY = gs_gaussian.predict(Xe)\n",
    "score = accuracy_score(ytest, predictedY)\n",
    "score"
   ]
  },
  {
   "cell_type": "code",
   "execution_count": null,
   "metadata": {
    "collapsed": false
   },
   "outputs": [],
   "source": [
    "from sklearn.metrics import accuracy_score\n",
    "print('mine:',np.sum(ytest==predictedY)/len(Xtest))\n",
    "print('two:',accuracy_score(ytest, predictedY))"
   ]
  },
  {
   "cell_type": "code",
   "execution_count": null,
   "metadata": {
    "collapsed": false
   },
   "outputs": [],
   "source": [
    "#sampling the whole dataset \n",
    "n = 300\n",
    "train_size=n/60000\n",
    "test_size=0.5*n/60000\n",
    "\n",
    "pipeline = make_pipeline(Normalizer(),StandardScaler(),gs)\n",
    "\n",
    "# pipeline = make_pipeline(Normalizer(),StandardScaler(),SVC(C=1.0, kernel='rbf', verbose=False))\n",
    "cv = ShuffleSplit(n,n_iter=3,test_size=test_size, train_size=train_size)\n",
    "\n",
    "scores = cross_val_score(pipeline,Xtrain_1d[0:n,:],ytrain[0:n],cv=10)\n",
    "print(\"Accuracy: %0.2f (+/- %0.2f)\" % ((1.0-scores.mean())*100, scores.std() * 2*100))"
   ]
  },
  {
   "cell_type": "code",
   "execution_count": null,
   "metadata": {
    "collapsed": false
   },
   "outputs": [],
   "source": [
    "gs.best_params_\n",
    "pipeline."
   ]
  },
  {
   "cell_type": "code",
   "execution_count": null,
   "metadata": {
    "collapsed": true
   },
   "outputs": [],
   "source": [
    "from sklearn.svm import SVC\n",
    "from sklearn.preprocessing import StandardScaler, Normalizer\n",
    "from sklearn.pipeline import make_pipeline\n",
    "from sklearn.cross_validation import cross_val_score, KFold, ShuffleSplit,cross_val_predict\n",
    "from sklearn import metrics\n",
    "\n",
    "def from_features_to_classif_scores(features,labels,ftest,ltest):\n",
    "    #stack them for learning\n",
    "    features = features.reshape((len(features),-1))\n",
    "    ftest = ftest.reshape((len(ftest),-1))\n",
    "    # apply pipeline\n",
    "    n = len(features)\n",
    "    \n",
    "    pipeline = make_pipeline(Normalizer(),StandardScaler(),SVC(C=1.0, kernel='rbf', verbose=False))\n",
    "    cv = ShuffleSplit(n,n_iter=3,test_size=0.1, train_size=0.9)\n",
    "    \n",
    "    scores = cross_val_score(pipeline,features,labels,cv=10)\n",
    "    print(\"Accuracy: %0.2f (+/- %0.2f)\" % ((1.0-scores.mean())*100, scores.std() * 2*100))\n",
    "    print('min score:',(1.0-scores.max())*100)\n",
    "    return pipeline,scores"
   ]
  },
  {
   "cell_type": "code",
   "execution_count": null,
   "metadata": {
    "collapsed": false
   },
   "outputs": [],
   "source": [
    "from load_mnist_db import load_scattering_mnist\n",
    "import time as time\n",
    "import numpy as np\n",
    "from keras.datasets import mnist\n",
    "\n",
    "num_images = 60000\n",
    "px=32\n",
    "\n",
    "Xtrain,ytrain,Xtest,ytest = load_scattering_mnist(num_images = num_images, px=px,J=3,L=8)\n",
    "\n",
    "num_points = [330, 1100, 2200, 5500, 11000, 22000, 60000]\n",
    "for n in num_points:\n",
    "    print('n=',n)\n",
    "    pipeline, test_err = from_features_to_classif_scores(Xtrain[0:n,:,:,:],ytrain[0:n],Xtest[0:n,:,:,:],ytest[0:n])"
   ]
  },
  {
   "cell_type": "code",
   "execution_count": null,
   "metadata": {
    "collapsed": false
   },
   "outputs": [],
   "source": [
    "test_err"
   ]
  },
  {
   "cell_type": "code",
   "execution_count": null,
   "metadata": {
    "collapsed": false
   },
   "outputs": [],
   "source": [
    "from sklearn.preprocessing import StandardScaler, Normalizer\n",
    "from sklearn.svm import SVC\n",
    "\n",
    "X_train = Xtrain\n",
    "y_train = ytrain\n",
    "X_train = features.reshape((len(X_train),-1))\n",
    "X_test = Xtest.reshape((len(Xtest),-1))\n",
    "\n",
    "# apply pipeline\n",
    "n = len(X_train)\n",
    "\n",
    "pipeline = make_pipeline(Normalizer(),StandardScaler(),SVC(C=1.0, kernel='rbf', verbose=True))\n",
    "#cv = ShuffleSplit(n,n_iter=3,test_size=1, train_size=1)\n",
    "\n",
    "normalizer = Normalizer()\n",
    "scaler = StandardScaler().fit(X_train)\n",
    "X_train_normalized = normalizer.transform(X_train)\n",
    "X_train_transformed = scaler.transform(X_train_normalized)\n",
    "\n",
    "clf = SVC(kernel='rbf', C=1, verbose=True).fit(X_train_transformed, y_train)\n",
    "\n",
    "X_test_normalized = normalizer.transform(X_test)\n",
    "X_test_transformed = scaler.transform(X_test_normalized)\n",
    "\n",
    "clf.score(Xtest, ytest)   \n",
    "\n",
    "\n",
    "print('score:',scores)"
   ]
  }
 ],
 "metadata": {
  "kernelspec": {
   "display_name": "Python 3",
   "language": "python",
   "name": "python3"
  },
  "language_info": {
   "codemirror_mode": {
    "name": "ipython",
    "version": 3
   },
   "file_extension": ".py",
   "mimetype": "text/x-python",
   "name": "python",
   "nbconvert_exporter": "python",
   "pygments_lexer": "ipython3",
   "version": "3.5.2"
  }
 },
 "nbformat": 4,
 "nbformat_minor": 0
}
