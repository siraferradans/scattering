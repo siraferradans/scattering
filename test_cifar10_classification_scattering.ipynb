{
 "cells": [
  {
   "cell_type": "code",
   "execution_count": 1,
   "metadata": {
    "collapsed": false
   },
   "outputs": [
    {
     "name": "stdout",
     "output_type": "stream",
     "text": [
      "Loading images:\n",
      "X_train shape: (150000, 32, 32)\n",
      "150000 train samples\n",
      "30000 test samples\n",
      "150000  images loaded in  27.51226806640625  secs\n",
      "shape data: (150000, 32, 32)\n",
      "Create filters:\n",
      "Compute  150000  scatterings:\n",
      "0 / 150000\n",
      "600 / 150000\n",
      "1200 / 150000\n",
      "1800 / 150000\n",
      "2400 / 150000\n",
      "3000 / 150000\n",
      "3600 / 150000\n",
      "4200 / 150000\n",
      "4800 / 150000\n",
      "5400 / 150000\n",
      "6000 / 150000\n",
      "6600 / 150000\n",
      "7200 / 150000\n",
      "7800 / 150000\n",
      "8400 / 150000\n",
      "9000 / 150000\n",
      "9600 / 150000\n",
      "10200 / 150000\n",
      "10800 / 150000\n",
      "11400 / 150000\n",
      "12000 / 150000\n",
      "12600 / 150000\n",
      "13200 / 150000\n",
      "13800 / 150000\n",
      "14400 / 150000\n",
      "15000 / 150000\n",
      "15600 / 150000\n",
      "16200 / 150000\n",
      "16800 / 150000\n",
      "17400 / 150000\n",
      "18000 / 150000\n",
      "18600 / 150000\n",
      "19200 / 150000\n",
      "19800 / 150000\n",
      "20400 / 150000\n",
      "21000 / 150000\n",
      "21600 / 150000\n",
      "22200 / 150000\n",
      "22800 / 150000\n",
      "23400 / 150000\n",
      "24000 / 150000\n",
      "24600 / 150000\n",
      "25200 / 150000\n",
      "25800 / 150000\n",
      "26400 / 150000\n",
      "27000 / 150000\n",
      "27600 / 150000\n",
      "28200 / 150000\n",
      "28800 / 150000\n",
      "29400 / 150000\n",
      "30000 / 150000\n",
      "30600 / 150000\n",
      "31200 / 150000\n",
      "31800 / 150000\n",
      "32400 / 150000\n",
      "33000 / 150000\n",
      "33600 / 150000\n",
      "34200 / 150000\n",
      "34800 / 150000\n",
      "35400 / 150000\n",
      "36000 / 150000\n",
      "36600 / 150000\n",
      "37200 / 150000\n",
      "37800 / 150000\n",
      "38400 / 150000\n",
      "39000 / 150000\n",
      "39600 / 150000\n",
      "40200 / 150000\n",
      "40800 / 150000\n",
      "41400 / 150000\n",
      "42000 / 150000\n",
      "42600 / 150000\n",
      "43200 / 150000\n",
      "43800 / 150000\n",
      "44400 / 150000\n",
      "45000 / 150000\n",
      "45600 / 150000\n",
      "46200 / 150000\n",
      "46800 / 150000\n",
      "47400 / 150000\n",
      "48000 / 150000\n",
      "48600 / 150000\n",
      "49200 / 150000\n",
      "49800 / 150000\n",
      "50400 / 150000\n",
      "51000 / 150000\n",
      "51600 / 150000\n",
      "52200 / 150000\n",
      "52800 / 150000\n",
      "53400 / 150000\n",
      "54000 / 150000\n",
      "54600 / 150000\n",
      "55200 / 150000\n",
      "55800 / 150000\n",
      "56400 / 150000\n",
      "57000 / 150000\n",
      "57600 / 150000\n",
      "58200 / 150000\n",
      "58800 / 150000\n",
      "59400 / 150000\n",
      "60000 / 150000\n",
      "60600 / 150000\n",
      "61200 / 150000\n",
      "61800 / 150000\n",
      "62400 / 150000\n",
      "63000 / 150000\n",
      "63600 / 150000\n",
      "64200 / 150000\n",
      "64800 / 150000\n",
      "65400 / 150000\n",
      "66000 / 150000\n",
      "66600 / 150000\n",
      "67200 / 150000\n",
      "67800 / 150000\n",
      "68400 / 150000\n",
      "69000 / 150000\n",
      "69600 / 150000\n",
      "70200 / 150000\n",
      "70800 / 150000\n",
      "71400 / 150000\n",
      "72000 / 150000\n",
      "72600 / 150000\n",
      "73200 / 150000\n",
      "73800 / 150000\n",
      "74400 / 150000\n",
      "75000 / 150000\n",
      "75600 / 150000\n",
      "76200 / 150000\n",
      "76800 / 150000\n",
      "77400 / 150000\n",
      "78000 / 150000\n",
      "78600 / 150000\n",
      "79200 / 150000\n",
      "79800 / 150000\n",
      "80400 / 150000\n",
      "81000 / 150000\n",
      "81600 / 150000\n",
      "82200 / 150000\n",
      "82800 / 150000\n",
      "83400 / 150000\n",
      "84000 / 150000\n",
      "84600 / 150000\n",
      "85200 / 150000\n",
      "85800 / 150000\n",
      "86400 / 150000\n",
      "87000 / 150000\n",
      "87600 / 150000\n",
      "88200 / 150000\n",
      "88800 / 150000\n",
      "89400 / 150000\n",
      "90000 / 150000\n",
      "90600 / 150000\n",
      "91200 / 150000\n",
      "91800 / 150000\n",
      "92400 / 150000\n",
      "93000 / 150000\n",
      "93600 / 150000\n",
      "94200 / 150000\n",
      "94800 / 150000\n",
      "95400 / 150000\n",
      "96000 / 150000\n",
      "96600 / 150000\n",
      "97200 / 150000\n",
      "97800 / 150000\n",
      "98400 / 150000\n",
      "99000 / 150000\n",
      "99600 / 150000\n",
      "100200 / 150000\n",
      "100800 / 150000\n",
      "101400 / 150000\n",
      "102000 / 150000\n",
      "102600 / 150000\n",
      "103200 / 150000\n",
      "103800 / 150000\n",
      "104400 / 150000\n",
      "105000 / 150000\n",
      "105600 / 150000\n",
      "106200 / 150000\n",
      "106800 / 150000\n",
      "107400 / 150000\n",
      "108000 / 150000\n",
      "108600 / 150000\n",
      "109200 / 150000\n",
      "109800 / 150000\n",
      "110400 / 150000\n",
      "111000 / 150000\n",
      "111600 / 150000\n",
      "112200 / 150000\n",
      "112800 / 150000\n",
      "113400 / 150000\n",
      "114000 / 150000\n",
      "114600 / 150000\n",
      "115200 / 150000\n",
      "115800 / 150000\n",
      "116400 / 150000\n",
      "117000 / 150000\n",
      "117600 / 150000\n",
      "118200 / 150000\n",
      "118800 / 150000\n",
      "119400 / 150000\n",
      "120000 / 150000\n",
      "120600 / 150000\n",
      "121200 / 150000\n",
      "121800 / 150000\n",
      "122400 / 150000\n",
      "123000 / 150000\n",
      "123600 / 150000\n",
      "124200 / 150000\n",
      "124800 / 150000\n",
      "125400 / 150000\n",
      "126000 / 150000\n",
      "126600 / 150000\n",
      "127200 / 150000\n",
      "127800 / 150000\n",
      "128400 / 150000\n",
      "129000 / 150000\n",
      "129600 / 150000\n",
      "130200 / 150000\n",
      "130800 / 150000\n",
      "131400 / 150000\n",
      "132000 / 150000\n",
      "132600 / 150000\n",
      "133200 / 150000\n",
      "133800 / 150000\n",
      "134400 / 150000\n",
      "135000 / 150000\n",
      "135600 / 150000\n",
      "136200 / 150000\n",
      "136800 / 150000\n",
      "137400 / 150000\n",
      "138000 / 150000\n",
      "138600 / 150000\n",
      "139200 / 150000\n",
      "139800 / 150000\n",
      "140400 / 150000\n",
      "141000 / 150000\n",
      "141600 / 150000\n",
      "142200 / 150000\n",
      "142800 / 150000\n",
      "143400 / 150000\n",
      "144000 / 150000\n",
      "144600 / 150000\n",
      "145200 / 150000\n",
      "145800 / 150000\n",
      "146400 / 150000\n",
      "147000 / 150000\n",
      "147600 / 150000\n",
      "148200 / 150000\n",
      "148800 / 150000\n",
      "149400 / 150000\n",
      "50000  scat. features computed in  7200.190102100372  secs.\n",
      "Now testing set:\n",
      "0 / 30000\n",
      "600 / 30000\n",
      "1200 / 30000\n",
      "1800 / 30000\n",
      "2400 / 30000\n",
      "3000 / 30000\n",
      "3600 / 30000\n",
      "4200 / 30000\n",
      "4800 / 30000\n",
      "5400 / 30000\n",
      "6000 / 30000\n",
      "6600 / 30000\n",
      "7200 / 30000\n",
      "7800 / 30000\n",
      "8400 / 30000\n",
      "9000 / 30000\n",
      "9600 / 30000\n",
      "10200 / 30000\n",
      "10800 / 30000\n",
      "11400 / 30000\n",
      "12000 / 30000\n",
      "12600 / 30000\n",
      "13200 / 30000\n",
      "13800 / 30000\n",
      "14400 / 30000\n",
      "15000 / 30000\n",
      "15600 / 30000\n",
      "16200 / 30000\n",
      "16800 / 30000\n",
      "17400 / 30000\n",
      "18000 / 30000\n",
      "18600 / 30000\n",
      "19200 / 30000\n",
      "19800 / 30000\n",
      "20400 / 30000\n",
      "21000 / 30000\n",
      "21600 / 30000\n",
      "22200 / 30000\n",
      "22800 / 30000\n",
      "23400 / 30000\n",
      "24000 / 30000\n",
      "24600 / 30000\n",
      "25200 / 30000\n",
      "25800 / 30000\n",
      "26400 / 30000\n",
      "27000 / 30000\n",
      "27600 / 30000\n",
      "28200 / 30000\n",
      "28800 / 30000\n",
      "29400 / 30000\n",
      "10000  scat. 3-color features computed in  1420.528193950653  secs.\n"
     ]
    },
    {
     "name": "stderr",
     "output_type": "stream",
     "text": [
      "/Users/ferradans/anaconda3/lib/python3.5/site-packages/ipykernel/__main__.py:27: DeprecationWarning: using a non-integer number instead of an integer will result in an error in the future\n",
      "/Users/ferradans/anaconda3/lib/python3.5/site-packages/ipykernel/__main__.py:28: DeprecationWarning: using a non-integer number instead of an integer will result in an error in the future\n"
     ]
    }
   ],
   "source": [
    "import numpy as np\n",
    "n = 60000\n",
    "import h5py\n",
    "from load_cifar10_db import load_images_cifar,load_scattering_cifar\n",
    "J=3\n",
    "L=8\n",
    "m=2\n",
    "\n",
    "X_train, y_train, X_test, y_test = load_scattering_cifar(num_images = 150000, J=J,L=L,m=m, sigma_phi=0.8, sigma_xi=0.8)\n",
    "#\n",
    "\n",
    "#Load the saved data    \n",
    "#f = h5py.File('./cifar10_scatteringdata.mat')\n",
    "#X_train = np.array(f['X_train']).astype('single')\n",
    "#y_train = np.array(f['y_train']).astype('single')\n",
    "#X_test = np.array(f['X_test']).astype('single')\n",
    "#y_test = np.array(f['y_test']).astype('single')\n",
    "#m = np.array(f['m'])\n",
    "#J = np.array(f['J'])\n",
    "#L = np.array(f['L'])\n",
    "\n",
    "num_samples = X_train.shape[0]\n",
    "\n",
    "num_coeffs = 3*(1+J*L+J*L*L*(J-1)/2)\n",
    "\n",
    "X_train.shape\n",
    "Xtrain_1d = X_train.reshape((50000,num_coeffs*8*8))\n",
    "Xtest_1d = X_test.reshape((10000,num_coeffs*8*8))\n"
   ]
  },
  {
   "cell_type": "code",
   "execution_count": 2,
   "metadata": {
    "collapsed": false
   },
   "outputs": [],
   "source": [
    "# Save data in a .mat file\n",
    "import h5py\n",
    "m=1\n",
    "J=3\n",
    "L=8\n",
    "with h5py.File('./cifar10_scatteringdata_sigma08_m2.mat','w') as hf:\n",
    "    hf.create_dataset('X_train', data=X_train)\n",
    "    hf.create_dataset('y_train', data=y_train)\n",
    "    hf.create_dataset('X_test' , data = X_test)\n",
    "    hf.create_dataset('y_test' , data = y_test)\n",
    "    hf.create_dataset('m' , data = m)\n",
    "    hf.create_dataset('J' , data = J)\n",
    "    hf.create_dataset('L' , data = L)\n"
   ]
  },
  {
   "cell_type": "code",
   "execution_count": 3,
   "metadata": {
    "collapsed": true
   },
   "outputs": [],
   "source": [
    "import numpy as np\n",
    "def gethomogeneus_datast(X,y,d,n):\n",
    "    num_per_class = np.int(n/d)\n",
    "    ytrain=np.reshape(y,(y.shape[0],))\n",
    "\n",
    "    X_out = []#np.zeros(n,X.shape[1],X.shape[2],X.shape[3])\n",
    "    y_out = []\n",
    "    for i_d in np.arange(d):\n",
    "        indx = np.where(ytrain.ravel()==i_d)\n",
    "\n",
    "        X_out.append(X[indx[0][0:num_per_class],:])\n",
    "        y_out.append(ytrain[indx[0][0:num_per_class],])\n",
    "\n",
    "    \n",
    "    X_out = np.concatenate(X_out,axis=0)\n",
    "    y_out = np.concatenate(y_out,axis=0)\n",
    "    #print(X_out.shape)\n",
    "    #print(y_out)\n",
    "    return X_out,y_out"
   ]
  },
  {
   "cell_type": "code",
   "execution_count": 7,
   "metadata": {
    "collapsed": false
   },
   "outputs": [
    {
     "name": "stdout",
     "output_type": "stream",
     "text": [
      "C= 4.4\n",
      "gamma= 0.0002818382931264455\n",
      "0.4482\n"
     ]
    }
   ],
   "source": [
    "## Testing specific values\n",
    "\n",
    "from sklearn.svm import SVC\n",
    "from sklearn.pipeline import make_pipeline\n",
    "from sklearn.metrics import accuracy_score\n",
    "from sklearn.preprocessing import StandardScaler, MinMaxScaler\n",
    "\n",
    "n = 10000\n",
    "Xa,ya=gethomogeneus_datast(Xtrain_1d,y_train,10,n)    \n",
    "\n",
    "bestC = 4.4\n",
    "bestgamma = 10**-3.55 \n",
    "print('C=',bestC)\n",
    "print('gamma=',bestgamma)\n",
    "gs_gaussian = SVC(kernel='rbf',C=bestC,gamma=bestgamma)\n",
    "pip_gaussian = make_pipeline(MinMaxScaler((-1,1)),StandardScaler(),gs_gaussian)\n",
    "\n",
    "pip_gaussian.fit(Xa,ya)\n",
    "out=pip_gaussian.predict(Xtest_1d)\n",
    "score = accuracy_score(y_test, out)\n",
    "print(score) # C=4.4, log10(gamma) = -3.5, score=0.338\n",
    "\n"
   ]
  },
  {
   "cell_type": "code",
   "execution_count": null,
   "metadata": {
    "collapsed": false
   },
   "outputs": [],
   "source": [
    "# Linear kernel\n",
    "\n",
    "from sklearn.grid_search import GridSearchCV\n",
    "from sklearn.svm import SVC\n",
    "from sklearn.pipeline import make_pipeline\n",
    "from sklearn.metrics import accuracy_score\n",
    "from sklearn.preprocessing import StandardScaler\n",
    "\n",
    "n = 10000\n",
    "Xa,ya=gethomogeneus_datast(Xtrain_1d,y_train,10,n)    \n",
    "\n",
    "parameters = {'C':np.arange(0.00001,0.1,0.025)}\n",
    "gs_gaussian = GridSearchCV(SVC(kernel='linear'),param_grid=parameters)\n",
    "\n",
    "pip_gaussian = make_pipeline(StandardScaler(),gs_gaussian)\n",
    "pip_gaussian.fit(Xa,ya)\n",
    "\n",
    "C_best = gs_gaussian.best_params_['C']\n",
    "\n",
    "out=pip_gaussian.predict(Xtest_1d)\n",
    "score = accuracy_score(y_test, out)\n",
    "print(score) # C=0.1, score(not 1-score )=0.4869\n",
    "print('best C:',C_best)"
   ]
  },
  {
   "cell_type": "code",
   "execution_count": null,
   "metadata": {
    "collapsed": false
   },
   "outputs": [],
   "source": [
    "##### Gaussian kernel grid search\n",
    "from sklearn.grid_search import GridSearchCV\n",
    "from sklearn.svm import SVC\n",
    "from sklearn.pipeline import make_pipeline\n",
    "from sklearn.metrics import accuracy_score\n",
    "from sklearn.preprocessing import StandardScaler,MinMaxScaler\n",
    "import time\n",
    "\n",
    "gammavec = 10**np.arange(-3.6,-3.4,0.1) #0.3-1.5(0.25) got 1.995 #(-1,0.5,0.1) got 0.5\n",
    "gammavec.shape = (gammavec.shape[0])\n",
    "Cvec = np.arange(3.8,4.5,0.2) #3-5(0.25))got 4.25  #4-5, 4.0 (0.5)\n",
    "Cvec.shape=(Cvec.shape[0])\n",
    "parameters = {\"C\":Cvec,\n",
    "              \"gamma\":gammavec}\n",
    "\n",
    "gs_gaussian = GridSearchCV(SVC(kernel='rbf',tol=1,max_iter=-1),parameters)\n",
    "pip_gaussian = make_pipeline(MinMaxScaler(),StandardScaler(),gs_gaussian)\n",
    "n = 10000\n",
    "Xa,ya=gethomogeneus_datast(Xtrain_1d,y_train,10,n)\n",
    "\n",
    "start = time.time()\n",
    "pip_gaussian.fit(Xa,ya.ravel())\n",
    "\n",
    "bestC = gs_gaussian.best_params_['C']\n",
    "bestgamma = gs_gaussian.best_params_['gamma']\n",
    "print(gamma=np.log10(bestgamma))\n",
    "print(C=bestC)\n",
    "out=pip_gaussian.predict(Xtest_1d)\n",
    "\n",
    "score = accuracy_score(y_test, out)\n",
    "print(score) # gamma = -3.5, C=4.1, score=0.4179, tol = 0.1 , time: 45.95646786689758,n=300\n",
    "print('time:',(time.time()-start)/60)"
   ]
  },
  {
   "cell_type": "code",
   "execution_count": 14,
   "metadata": {
    "collapsed": false
   },
   "outputs": [
    {
     "name": "stdout",
     "output_type": "stream",
     "text": [
      "-3.5\n"
     ]
    }
   ],
   "source": [
    "m=2, n=300\n",
    "-3.5\n",
    "3.8\n",
    "0.3243\n",
    "time: 408.93535590171814\n",
    "\n",
    "n=40000\n",
    "Using Theano backend.\n",
    "8.0\n",
    "num coefs: 75\n",
    "X_train shape: (50000, 75, 8, 8)\n",
    "Crossvalidation for  25  coefficients\n",
    "Cross validation for  40000  samples done in  38865.804097890854  secs (25 options)\n",
    "Best gamma: 0.000316227766017\n",
    "Best C: 4.5\n",
    "\n",
    "\n",
    "\n",
    "\n",
    "n=1000, max_iter = 75, tol = 0.1\n",
    "-3.6\n",
    "4.0\n",
    "0.5091\n",
    "time: 214.2964949607849\n",
    "\n",
    "max_iter=-1, n=300\n",
    "-3.6\n",
    "3.8\n",
    "0.4204\n",
    "time: 35.526423931121826\n",
    "\n",
    "max_iter = 100    \n",
    "-3.6\n",
    "3.8\n",
    "0.4204\n",
    "time: 31.296122074127197\n",
    "max_iter = 50\n",
    "-3.6\n",
    "3.8\n",
    "0.4213\n",
    "time: 32.86830997467041\n",
    "    \n",
    "\n",
    "n=10000 tol = 0.1\n",
    "-3.5\n",
    "4.2\n",
    "0.6671\n",
    "\n",
    "n=5000, tol = 0.1\n",
    "-3.6\n",
    "4.0\n",
    "0.6255\n",
    "\n",
    "\n",
    "\n",
    "n=1000, tol = 0.1 (MinMaxScaler, Stdscaler)\n",
    "-3.5\n",
    "3.8\n",
    "0.512\n",
    "\n",
    "\n",
    "n=1000, tol = 0.1 (down: just standadScaler())\n",
    "-3.6\n",
    "3.8\n",
    "score=0.5169\n",
    "time: 387.4123179912567\n",
    "\n",
    "tol = 0.01 \n",
    "-3.6\n",
    "3.8\n",
    "0.5169\n",
    "time: 461.48333406448364\n",
    "\n",
    "\n",
    "________________________\n",
    "n = 300, tol = 0.001\n",
    "-3.5\n",
    "4.1\n",
    "0.4185\n",
    "time: 46.558130979537964\n",
    "    \n",
    "-3.6\n",
    "4.0\n",
    "0.4204\n",
    "time: 36.48983287811279\n",
    "    \n",
    "    "
   ]
  },
  {
   "cell_type": "code",
   "execution_count": null,
   "metadata": {
    "collapsed": true
   },
   "outputs": [],
   "source": [
    "from sklearn.grid_search import GridSearchCV\n",
    "from sklearn.svm import SVC\n",
    "from sklearn.pipeline import make_pipeline\n",
    "from sklearn.metrics import accuracy_score\n",
    "from sklearn.preprocessing import MinMaxScaler,StandardScaler, Normalizer\n",
    "\n",
    "gammavec = np.array(10**np.arange(0.46,0.52,0.01)) #np.array(10**np.arange(-0.1,1,0.3))  best 0.5 #np.array(10**np.arange(-3,-0.5,0.1)) got 0.0063095734448\n",
    "gammavec.shape = (6)\n",
    "Cvec = np.arange(3.8,3.95,0.05)\n",
    "#Cvec.append(1) #np.arange(3.15,3.55,0.10) #np.arange(0.5,4,0.25) got 3.25\n",
    "Cvec.shape=(4)\n",
    "parameters = {\"C\":Cvec,\n",
    "              \"gamma\":gammavec}\n",
    "\n",
    "gs_gaussian = GridSearchCV(SVC(kernel='rbf'),parameters)\n",
    "pip_gaussian = make_pipeline(StandardScaler(),gs_gaussian)\n",
    "pip_gaussian.fit(Xa,ya)\n",
    "\n",
    "bestC = gs_gaussian.best_params_['C']\n",
    "bestgamma = gs_gaussian.best_params_['gamma']\n",
    "print(bestC)\n",
    "print(bestgamma)\n",
    "gs_gaussian = SVC(kernel='rbf',C=bestC,gamma=bestgamma)\n",
    "pip_gaussian = make_pipeline(MinMaxScaler((-1,1)),Normalizer(),gs_gaussian)\n",
    "\n",
    "pip_gaussian.fit(Xa,ya)\n",
    "out=pip_gaussian.predict(Xtest_1d)\n",
    "score = 1.0-accuracy_score(ytest, out)\n",
    "print(score) # C=3, gamma = 3.16227766, score=0.0139\n",
    "#C=3.9, gamma = 2.88403150313 score=0.0137"
   ]
  },
  {
   "cell_type": "code",
   "execution_count": null,
   "metadata": {
    "collapsed": false
   },
   "outputs": [],
   "source": [
    "from skimage.color.colorconv import rgb2yuv,yuv2rgb\n",
    "\n",
    "Xta = X_train.transpose((3,2,0,1))/255\n",
    "Iyuv=rgb2yuv(Xta)\n",
    "Iyuv = Iyuv.transpose((2,3,0,1)).copy()\n",
    "Iyuv.shape = (num_samples*3,32,32)"
   ]
  },
  {
   "cell_type": "code",
   "execution_count": null,
   "metadata": {
    "collapsed": false
   },
   "outputs": [],
   "source": [
    "im = Iyuv[0:3,:,:].transpose((1,2,0))                      \n",
    "imvuelta = yuv2rgb(im)\n",
    "imvuelta.max()"
   ]
  },
  {
   "cell_type": "code",
   "execution_count": null,
   "metadata": {
    "collapsed": false
   },
   "outputs": [],
   "source": [
    "import matplotlib.pylab as plt \n",
    "%matplotlib inline\n",
    "indx = 0\n",
    "plt.subplot(1,2,1)\n",
    "plt.imshow(imvuelta)\n",
    "plt.subplot(1,2,2)\n",
    "x = X_train[indx,:,:,:]\n",
    "x.shape\n",
    "plt.imshow(x.transpose((2,1,0))/255)\n",
    "plt.show()"
   ]
  },
  {
   "cell_type": "code",
   "execution_count": null,
   "metadata": {
    "collapsed": false
   },
   "outputs": [],
   "source": [
    "import matplotlib.pylab as plt \n",
    "%matplotlib inline\n",
    "indx = 0\n",
    "plt.subplot(1,2,1)\n",
    "plt.imshow(Ivuelta[:,:,indx,:])\n",
    "plt.subplot(1,2,2)\n",
    "x = X_train[indx,:,:,:]\n",
    "x.shape\n",
    "plt.imshow(x.transpose((2,1,0))/255)\n",
    "plt.show()"
   ]
  },
  {
   "cell_type": "code",
   "execution_count": null,
   "metadata": {
    "collapsed": false
   },
   "outputs": [],
   "source": [
    "n = 60000\n",
    "from load_mnist_db import load_scattering_mnist\n",
    "\n",
    "import time as time\n",
    "import numpy as np\n",
    "from keras.datasets import mnist\n",
    "num_images = n\n",
    "px=32\n",
    "\n",
    "Xtrain,ytrain,Xtest,ytest = load_scattering_mnist(num_images = num_images, px=px,J=3,L=6,m=2)\n",
    "Xtrain_1d = Xtrain.reshape((len(Xtrain),-1))\n",
    "num_samples,num_features = Xtrain_1d.shape"
   ]
  },
  {
   "cell_type": "code",
   "execution_count": null,
   "metadata": {
    "collapsed": false
   },
   "outputs": [],
   "source": [
    "Xtrain_1d = Xtrain.reshape((len(Xtrain),-1))\n",
    "Xtest_1d = Xtest.reshape((len(Xtest),-1))\n",
    "Xtest_1d.shape"
   ]
  },
  {
   "cell_type": "code",
   "execution_count": null,
   "metadata": {
    "collapsed": false
   },
   "outputs": [],
   "source": [
    "\"\"\"\n",
    "import os, sys\n",
    "import scipy.misc\n",
    "import scipy.io\n",
    "print('saving data in ./mnist_scat_complet.mat')\n",
    "\n",
    "scipy.io.savemat('./mnist_scat_complet.mat', \n",
    "                 mdict={'ytest': ytest, 'xtest': Xtest, \n",
    "                        'ytrain': ytrain, 'xtrain': Xtrain })\n",
    "print('saving done!')\n",
    "\"\"\""
   ]
  },
  {
   "cell_type": "code",
   "execution_count": null,
   "metadata": {
    "collapsed": false
   },
   "outputs": [],
   "source": [
    "\"\"\"\n",
    "import h5py\n",
    "import numpy as np\n",
    "\n",
    "f = h5py.File('mnist_scat_complet.mat')\n",
    "Xtrain = np.array(f['xtrain']).transpose(3,2,1,0)\n",
    "Xtest = np.array(f['xtest']).transpose(3,2,1,0)\n",
    "ytrain = f['ytrain']\n",
    "ytest = f['ytest']\n",
    "\"\"\""
   ]
  },
  {
   "cell_type": "code",
   "execution_count": 8,
   "metadata": {
    "collapsed": false
   },
   "outputs": [
    {
     "data": {
      "text/plain": [
       "41.666666666666664"
      ]
     },
     "execution_count": 8,
     "metadata": {},
     "output_type": "execute_result"
    }
   ],
   "source": [
    "1000/24"
   ]
  },
  {
   "cell_type": "code",
   "execution_count": null,
   "metadata": {
    "collapsed": false
   },
   "outputs": [],
   "source": [
    "def gethomogeneus_datast(X,y,d,n):\n",
    "    num_per_class = np.int(n/d)\n",
    "    ytrain=np.reshape(y,(y.shape[0],))\n",
    "\n",
    "    X_out = []#np.zeros(n,X.shape[1],X.shape[2],X.shape[3])\n",
    "    y_out = []\n",
    "    for i_d in np.arange(d):\n",
    "        indx = np.where(ytrain.ravel()==i_d)\n",
    "\n",
    "        X_out.append(X[indx[0][0:num_per_class],:])\n",
    "        y_out.append(ytrain[indx[0][0:num_per_class],])\n",
    "\n",
    "    \n",
    "    X_out = np.concatenate(X_out,axis=0)\n",
    "    y_out = np.concatenate(y_out,axis=0)\n",
    "    #print(X_out.shape)\n",
    "    #print(y_out)\n",
    "    return X_out,y_out"
   ]
  },
  {
   "cell_type": "code",
   "execution_count": null,
   "metadata": {
    "collapsed": false
   },
   "outputs": [],
   "source": [
    "gammavec = 10**np.arange(-3,-1,0.1)\n",
    "gammavec.shape = (gammavec.shape[0])\n",
    "gammavec.shape\n",
    "Cvec = np.arange(1,3.5,0.5)\n",
    "Cvec.shape=(Cvec.shape[0])\n",
    "Cvec.shape"
   ]
  },
  {
   "cell_type": "code",
   "execution_count": null,
   "metadata": {
    "collapsed": false
   },
   "outputs": [],
   "source": [
    "##### Gaussian kernel grid search\n",
    "from sklearn.grid_search import GridSearchCV\n",
    "from sklearn.svm import SVC\n",
    "from sklearn.pipeline import make_pipeline\n",
    "from sklearn.metrics import accuracy_score\n",
    "from sklearn.preprocessing import MinMaxScaler, Normalizer\n",
    "\n",
    "\n",
    "#gammavec = 10**np.arange(-2.25,-2.15,0.01)# got 0.00616595 #np.array(10**np.arange(-3,-0.5,0.1)) got 0.0063095734448\n",
    "gammavec = 10**np.arange(0.,0.15,0.05) #0.3-1.5(0.25) got 1.995 #(-1,0.5,0.1) got 0.5\n",
    "gammavec.shape = (gammavec.shape[0])\n",
    "#Cvec = np.arange(3.15,3.55,0.10) #got 3.25 #np.arange(0.5,4,0.25) got 3.25\n",
    "Cvec = np.arange(4.1,4.4,0.1) #3-5(0.25))got 4.25  #4-5, 4.0 (0.5)\n",
    "Cvec.shape=(Cvec.shape[0])\n",
    "parameters = {\"C\":Cvec,\n",
    "              \"gamma\":gammavec}\n",
    "\n",
    "gs_gaussian = GridSearchCV(SVC(kernel='rbf'),parameters)\n",
    "pip_gaussian = make_pipeline(MinMaxScaler((-1,1)),Normalizer(),gs_gaussian)\n",
    "n = 10000\n",
    "Xa,ya=gethomogeneus_datast(Xtrain_1d,ytrain,10,n)\n",
    "\n",
    "np.histogram(ya)\n",
    "\n",
    "pip_gaussian.fit(Xa,ya.ravel())\n",
    "\n",
    "bestC = gs_gaussian.best_params_['C']\n",
    "bestgamma = gs_gaussian.best_params_['gamma']\n",
    "print(bestgamma)\n",
    "print(bestC)"
   ]
  },
  {
   "cell_type": "code",
   "execution_count": null,
   "metadata": {
    "collapsed": false
   },
   "outputs": [],
   "source": [
    "np.log10(1.1220184543)"
   ]
  },
  {
   "cell_type": "code",
   "execution_count": null,
   "metadata": {
    "collapsed": false
   },
   "outputs": [],
   "source": [
    "bestC = 4\n",
    "bestgamma =10**0.4"
   ]
  },
  {
   "cell_type": "code",
   "execution_count": null,
   "metadata": {
    "collapsed": false
   },
   "outputs": [],
   "source": [
    "print(np.log10(bestgamma))\n",
    "gammavec\n",
    "print(10**np.arange(-2.25,-2.15,0.01))\n",
    "#print(gammavec)\n",
    "print(bestgamma)"
   ]
  },
  {
   "cell_type": "code",
   "execution_count": null,
   "metadata": {
    "collapsed": false
   },
   "outputs": [],
   "source": [
    "print(bestC)\n",
    "Cvec\n",
    "np.arange(3.15,3.55,0.10)"
   ]
  },
  {
   "cell_type": "code",
   "execution_count": null,
   "metadata": {
    "collapsed": false
   },
   "outputs": [],
   "source": [
    "########### Gaussian kernel methods\n",
    "\n",
    "from sklearn.grid_search import GridSearchCV\n",
    "from sklearn.svm import SVC\n",
    "from sklearn.pipeline import make_pipeline\n",
    "from sklearn.metrics import accuracy_score\n",
    "from sklearn.preprocessing import MinMaxScaler,StandardScaler, Normalizer\n",
    "\n",
    "num_items,num_features = Xtrain_1d.shape\n",
    "\n",
    "ns = [300, 1000, 2000, 5000, 10000,20000, 40000, 60000]\n",
    "score_gaussian = np.zeros((len(ns),1))\n",
    "for i,n in enumerate(ns):\n",
    "    #  gs_gaussian = GridSearchCV(SVC(kernel='rbf'),param_grid=parameters)\n",
    "    gs_gaussian = SVC(kernel='rbf',C=bestC,gamma=bestgamma)\n",
    "    pip_gaussian = make_pipeline(MinMaxScaler((-1,1)),Normalizer(),gs_gaussian)\n",
    "\n",
    "#    gs_gaussian = SVC(kernel='rbf',gamma=0.0018)\n",
    "#    pip_gaussian = make_pipeline(StandardScaler(),Normalizer(),gs_gaussian)\n",
    "\n",
    "    Xa,ya=gethomogeneus_datast(Xtrain_1d,ytrain,10,n) \n",
    "    pip_gaussian.fit(Xa,ya)\n",
    "    out=pip_gaussian.predict(Xtest_1d)\n",
    "    score_gaussian[i] = 1.0-accuracy_score(ytest, out)\n",
    "    print(score_gaussian[i])\n",
    "    \n",
    "score_gaussian"
   ]
  },
  {
   "cell_type": "code",
   "execution_count": null,
   "metadata": {
    "collapsed": false
   },
   "outputs": [],
   "source": [
    "print(bestC)\n",
    "print(bestgamma)"
   ]
  },
  {
   "cell_type": "code",
   "execution_count": null,
   "metadata": {
    "collapsed": false
   },
   "outputs": [],
   "source": [
    "np.arange(-3,-0.5,0.1).shape\n",
    "n = 10000\n",
    "Xa,ya=gethomogeneus_datast(Xtrain_1d,ytrain,10,n)"
   ]
  },
  {
   "cell_type": "code",
   "execution_count": null,
   "metadata": {
    "collapsed": false
   },
   "outputs": [],
   "source": [
    "from sklearn.grid_search import GridSearchCV\n",
    "from sklearn.svm import SVC\n",
    "from sklearn.pipeline import make_pipeline\n",
    "from sklearn.metrics import accuracy_score\n",
    "from sklearn.preprocessing import MinMaxScaler,StandardScaler, Normalizer\n",
    "\n",
    "gammavec = np.array(10**np.arange(0.46,0.52,0.01)) #np.array(10**np.arange(-0.1,1,0.3))  best 0.5 #np.array(10**np.arange(-3,-0.5,0.1)) got 0.0063095734448\n",
    "gammavec.shape = (6)\n",
    "Cvec = np.arange(3.8,3.95,0.05)\n",
    "#Cvec.append(1) #np.arange(3.15,3.55,0.10) #np.arange(0.5,4,0.25) got 3.25\n",
    "Cvec.shape=(4)\n",
    "parameters = {\"C\":Cvec,\n",
    "              \"gamma\":gammavec}\n",
    "\n",
    "gs_gaussian = GridSearchCV(SVC(kernel='rbf'),parameters)\n",
    "pip_gaussian = make_pipeline(MinMaxScaler((-1,1)),Normalizer(),gs_gaussian)\n",
    "pip_gaussian.fit(Xa,ya)\n",
    "\n",
    "bestC = gs_gaussian.best_params_['C']\n",
    "bestgamma = gs_gaussian.best_params_['gamma']\n",
    "print(bestC)\n",
    "print(bestgamma)\n",
    "gs_gaussian = SVC(kernel='rbf',C=bestC,gamma=bestgamma)\n",
    "pip_gaussian = make_pipeline(MinMaxScaler((-1,1)),Normalizer(),gs_gaussian)\n",
    "\n",
    "pip_gaussian.fit(Xa,ya)\n",
    "out=pip_gaussian.predict(Xtest_1d)\n",
    "score = 1.0-accuracy_score(ytest, out)\n",
    "print(score) # C=3, gamma = 3.16227766, score=0.0139\n",
    "#C=3.9, gamma = 2.88403150313 score=0.0137"
   ]
  },
  {
   "cell_type": "code",
   "execution_count": null,
   "metadata": {
    "collapsed": false
   },
   "outputs": [],
   "source": [
    "n"
   ]
  },
  {
   "cell_type": "code",
   "execution_count": null,
   "metadata": {
    "collapsed": false
   },
   "outputs": [],
   "source": [
    "from sklearn.grid_search import GridSearchCV\n",
    "from sklearn.svm import SVC\n",
    "from sklearn.pipeline import make_pipeline\n",
    "from sklearn.metrics import accuracy_score\n",
    "from sklearn.preprocessing import MinMaxScaler,Normalizer\n",
    "\n",
    "n = 10000\n",
    "Xa,ya=gethomogeneus_datast(Xtrain_1d,ytrain,10,n)    \n",
    "\n",
    "parameters = {'C':np.arange(0.75,5,0.25)}\n",
    "gs_gaussian = GridSearchCV(SVC(kernel='linear'),param_grid=parameters)\n",
    "\n",
    "pip_gaussian = make_pipeline(MinMaxScaler((-1,1)),Normalizer(),gs_gaussian)\n",
    "pip_gaussian.fit(Xa,ya)\n",
    "\n",
    "C_best = gs_gaussian.best_params_['C']"
   ]
  },
  {
   "cell_type": "code",
   "execution_count": null,
   "metadata": {
    "collapsed": false
   },
   "outputs": [],
   "source": [
    "C_best = gs_gaussian.best_params_['C']"
   ]
  },
  {
   "cell_type": "code",
   "execution_count": null,
   "metadata": {
    "collapsed": false
   },
   "outputs": [],
   "source": [
    "### linear\n",
    "\n",
    "from sklearn.grid_search import GridSearchCV\n",
    "from sklearn.svm import SVC\n",
    "from sklearn.pipeline import make_pipeline\n",
    "from sklearn.metrics import accuracy_score\n",
    "from sklearn.preprocessing import MinMaxScaler,Normalizer\n",
    "\n",
    "num_items,num_features = Xtrain_1d.shape\n",
    "\n",
    "ns = [300, 1000, 2000, 5000, 10000]\n",
    "score_gaussian = np.zeros((5,1))\n",
    "for i,n in enumerate(ns):\n",
    "    #  gs_gaussian = GridSearchCV(SVC(kernel='rbf'),param_grid=parameters)\n",
    "    gs_gaussian = SVC(kernel='linear',C=C_best)\n",
    "    pip_gaussian = make_pipeline(MinMaxScaler((-1,1)),Normalizer(),gs_gaussian)\n",
    "\n",
    "#    gs_gaussian = SVC(kernel='rbf',gamma=0.0018)\n",
    "#    pip_gaussian = make_pipeline(StandardScaler(),Normalizer(),gs_gaussian)\n",
    "\n",
    "    Xa,ya=gethomogeneus_datast(Xtrain_1d,ytrain,10,n)    \n",
    "    pip_gaussian.fit(Xa,ya)\n",
    "    out=pip_gaussian.predict(Xtest_1d)\n",
    "    score_gaussian[i] = 1.0-accuracy_score(ytest, out)\n",
    "    print(score_gaussian[i])\n",
    "    \n",
    "score_gaussian"
   ]
  },
  {
   "cell_type": "code",
   "execution_count": null,
   "metadata": {
    "collapsed": false
   },
   "outputs": [],
   "source": [
    "Xtest_1d = Xtest.reshape((len(Xtest),-1))\n",
    "Xe = normalize(Xtest_1d)\n",
    "Xe = scale(Xe)\n",
    "\n",
    "predictedY = gs_linear.predict(Xe)\n",
    "score = accuracy_score(ytest, predictedY)\n",
    "score"
   ]
  },
  {
   "cell_type": "code",
   "execution_count": null,
   "metadata": {
    "collapsed": true
   },
   "outputs": [],
   "source": [
    "parameters = {\"C\":[1,1.1,1.11,1.05] ,\n",
    "              \"gamma\":[0.1/num_features,1/num_features,10./num_features]}\n",
    "gs_gaussian = GridSearchCV(SVC(kernel='rbf'),param_grid=parameters)\n",
    "\n",
    "X = normalize(Xtrain_1d[0:n,:])\n",
    "X = scale(X)\n",
    "\n",
    "gs_gaussian.fit(X,ytrain[0:n])\n",
    "gs_gaussian.best_params_\n",
    "\n",
    "Xtest_1d = Xtest.reshape((len(Xtest),-1))\n",
    "Xe = normalize(Xtest_1d)\n",
    "Xe = scale(Xe)\n",
    "\n",
    "predictedY = gs_gaussian.predict(Xe)\n",
    "score = accuracy_score(ytest, predictedY)\n",
    "score"
   ]
  },
  {
   "cell_type": "code",
   "execution_count": null,
   "metadata": {
    "collapsed": false
   },
   "outputs": [],
   "source": [
    "from sklearn.metrics import accuracy_score\n",
    "print('mine:',np.sum(ytest==predictedY)/len(Xtest))\n",
    "print('two:',accuracy_score(ytest, predictedY))"
   ]
  },
  {
   "cell_type": "code",
   "execution_count": null,
   "metadata": {
    "collapsed": false
   },
   "outputs": [],
   "source": [
    "#sampling the whole dataset \n",
    "n = 300\n",
    "train_size=n/60000\n",
    "test_size=0.5*n/60000\n",
    "\n",
    "pipeline = make_pipeline(Normalizer(),StandardScaler(),gs)\n",
    "\n",
    "# pipeline = make_pipeline(Normalizer(),StandardScaler(),SVC(C=1.0, kernel='rbf', verbose=False))\n",
    "cv = ShuffleSplit(n,n_iter=3,test_size=test_size, train_size=train_size)\n",
    "\n",
    "scores = cross_val_score(pipeline,Xtrain_1d[0:n,:],ytrain[0:n],cv=10)\n",
    "print(\"Accuracy: %0.2f (+/- %0.2f)\" % ((1.0-scores.mean())*100, scores.std() * 2*100))"
   ]
  },
  {
   "cell_type": "code",
   "execution_count": null,
   "metadata": {
    "collapsed": false
   },
   "outputs": [],
   "source": [
    "gs.best_params_\n",
    "pipeline."
   ]
  },
  {
   "cell_type": "code",
   "execution_count": null,
   "metadata": {
    "collapsed": true
   },
   "outputs": [],
   "source": [
    "from sklearn.svm import SVC\n",
    "from sklearn.preprocessing import StandardScaler, Normalizer\n",
    "from sklearn.pipeline import make_pipeline\n",
    "from sklearn.cross_validation import cross_val_score, KFold, ShuffleSplit,cross_val_predict\n",
    "from sklearn import metrics\n",
    "\n",
    "def from_features_to_classif_scores(features,labels,ftest,ltest):\n",
    "    #stack them for learning\n",
    "    features = features.reshape((len(features),-1))\n",
    "    ftest = ftest.reshape((len(ftest),-1))\n",
    "    # apply pipeline\n",
    "    n = len(features)\n",
    "    \n",
    "    pipeline = make_pipeline(Normalizer(),StandardScaler(),SVC(C=1.0, kernel='rbf', verbose=False))\n",
    "    cv = ShuffleSplit(n,n_iter=3,test_size=0.1, train_size=0.9)\n",
    "    \n",
    "    scores = cross_val_score(pipeline,features,labels,cv=10)\n",
    "    print(\"Accuracy: %0.2f (+/- %0.2f)\" % ((1.0-scores.mean())*100, scores.std() * 2*100))\n",
    "    print('min score:',(1.0-scores.max())*100)\n",
    "    return pipeline,scores"
   ]
  },
  {
   "cell_type": "code",
   "execution_count": null,
   "metadata": {
    "collapsed": false
   },
   "outputs": [],
   "source": [
    "from load_mnist_db import load_scattering_mnist\n",
    "import time as time\n",
    "import numpy as np\n",
    "from keras.datasets import mnist\n",
    "\n",
    "num_images = 60000\n",
    "px=32\n",
    "\n",
    "Xtrain,ytrain,Xtest,ytest = load_scattering_mnist(num_images = num_images, px=px,J=3,L=8)\n",
    "\n",
    "num_points = [330, 1100, 2200, 5500, 11000, 22000, 60000]\n",
    "for n in num_points:\n",
    "    print('n=',n)\n",
    "    pipeline, test_err = from_features_to_classif_scores(Xtrain[0:n,:,:,:],ytrain[0:n],Xtest[0:n,:,:,:],ytest[0:n])"
   ]
  },
  {
   "cell_type": "code",
   "execution_count": null,
   "metadata": {
    "collapsed": false
   },
   "outputs": [],
   "source": [
    "test_err"
   ]
  },
  {
   "cell_type": "code",
   "execution_count": null,
   "metadata": {
    "collapsed": false
   },
   "outputs": [],
   "source": [
    "from sklearn.preprocessing import StandardScaler, Normalizer\n",
    "from sklearn.svm import SVC\n",
    "\n",
    "X_train = Xtrain\n",
    "y_train = ytrain\n",
    "X_train = features.reshape((len(X_train),-1))\n",
    "X_test = Xtest.reshape((len(Xtest),-1))\n",
    "\n",
    "# apply pipeline\n",
    "n = len(X_train)\n",
    "\n",
    "pipeline = make_pipeline(Normalizer(),StandardScaler(),SVC(C=1.0, kernel='rbf', verbose=True))\n",
    "#cv = ShuffleSplit(n,n_iter=3,test_size=1, train_size=1)\n",
    "\n",
    "normalizer = Normalizer()\n",
    "scaler = StandardScaler().fit(X_train)\n",
    "X_train_normalized = normalizer.transform(X_train)\n",
    "X_train_transformed = scaler.transform(X_train_normalized)\n",
    "\n",
    "clf = SVC(kernel='rbf', C=1, verbose=True).fit(X_train_transformed, y_train)\n",
    "\n",
    "X_test_normalized = normalizer.transform(X_test)\n",
    "X_test_transformed = scaler.transform(X_test_normalized)\n",
    "\n",
    "clf.score(Xtest, ytest)   \n",
    "\n",
    "\n",
    "print('score:',scores)"
   ]
  }
 ],
 "metadata": {
  "kernelspec": {
   "display_name": "Python 3",
   "language": "python",
   "name": "python3"
  },
  "language_info": {
   "codemirror_mode": {
    "name": "ipython",
    "version": 3
   },
   "file_extension": ".py",
   "mimetype": "text/x-python",
   "name": "python",
   "nbconvert_exporter": "python",
   "pygments_lexer": "ipython3",
   "version": "3.5.2"
  }
 },
 "nbformat": 4,
 "nbformat_minor": 0
}
